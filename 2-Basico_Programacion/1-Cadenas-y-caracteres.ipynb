{
 "cells": [
  {
   "cell_type": "markdown",
   "metadata": {},
   "source": [
    "# Cadenas y caracteres\n",
    "\n",
    "### Índice\n",
    "\n",
    "* [6. Cadenas (`strings`) en Python](#6.-Cadenas-(`strings`)-en-Python)\n",
    "    * [6.1. Representación de las cadenas](#6.1.-Representación-de-las-cadenas)\n",
    "    * [6.3.¿Qué tipo es una cadena? ](#6.3.-¿Qué-tipo-es-una-cadena?)\n",
    "    * [6.4. ¿Qué puedo hacer con las cadenas?](#6.4.-¿Qué-puedo-hacer-con-las-cadenas?)\n",
    "    * [6.5. Formato de cadena](#6.5.-Formato-de-cadena)"
   ]
  },
  {
   "cell_type": "markdown",
   "metadata": {},
   "source": [
    "# 6. Cadenas (`strings`) en Python \n",
    "\n",
    "En la sección anterior, usamos cadenas varias veces, tanto como indicaciones para el usuario y como resultado de la función `print()`. Incluso hicimos que el usuario escribiera su nombre y lo almacenara en una variable que podría usarse para acceder a este nombre en un momento posterior. En esta sección exploraremos qué es una cadena y cómo puede trabajar con ellas y manipularlas, pero ¿qué es una cadena?\n",
    "\n",
    "En Python, **una cadena es una serie o secuencia de caracteres en orden**. En esta definición, un *carácter* es cualquier cosa que pueda escribir en el teclado con solo presionar una tecla, como una letra `'a'`, `'b'`, `'c'` o un número `'1'`, `'2'`, `'3'` o un caracteres especiales como `'\\'`, `'['`, `'$'`, e inclusive el espacio en blanco `' '`; aunque no está limitado únicamente a estos caracteres, como veremos más adelante.\n",
    "\n",
    "Una propiedad de las cadenas es que son inmutables, lo que significa que una vez que se ha creado una cadena, no se puede cambiar (Lo veremos más adelante), por lo que será necesario almacenar cualquier cambio en otra variabe.\n",
    "\n",
    "Para definir el inicio y el final de una cadena, hemos utilizado el carácter de comillas simples ', por lo tanto, todas las siguientes son cadenas válidas:\n",
    "\n",
    "* `'Hello'`\n",
    "* `'Hello World'`\n",
    "* `'Hello Aura'`\n",
    "* `'To be or not to be. That is the question!'`"
   ]
  },
  {
   "cell_type": "code",
   "execution_count": 7,
   "metadata": {},
   "outputs": [
    {
     "name": "stdout",
     "output_type": "stream",
     "text": [
      "La cadena es:   y es del tipo  <class 'str'>\n"
     ]
    }
   ],
   "source": [
    "string = ' ' #Cadena de u espacio en blanco. Notemos que ' '  es distinto a ''\n",
    "print('La cadena es:', string, 'y es del tipo ', type(string))"
   ]
  },
  {
   "cell_type": "markdown",
   "metadata": {},
   "source": [
    "## 6.1. Representación de las cadenas\n",
    "\n",
    "Como se indicó anteriormente, hemos usado comillas simples para definir el inicio y el final de una cadena sin embargo, en Python las comillas simples o dobles se pueden usar para definir una cadena, por lo tanto, los dos siguientes son válidos:\n",
    "\n",
    "* `'Hello World!'`\n",
    "* `\"Hello World!\"`\n",
    "\n",
    "En Python, estas formas son exactamente las mismas, aunque por convención usamos comillas simples. A menudo se hace referencia a este enfoque como más *Pytónico* (lo que implica que es más la convención utilizada por programadores experimentados de Python) pero el lenguaje no lo aplica. Sin embargo, debe tener en cuenta que no puede mezclar los dos estilos de cadenas de inicio y final, es decir, **no puede comenzar una cadena con una comilla simple y terminar una cadena con una comilla doble**, por lo tanto, los siguientes son ilegales en Python:\n",
    "\n",
    "* `Hello World'' # This is illegal` \n",
    "* `''Hello World' # So is this`"
   ]
  },
  {
   "cell_type": "code",
   "execution_count": 3,
   "metadata": {},
   "outputs": [
    {
     "name": "stdout",
     "output_type": "stream",
     "text": [
      "\"Hello World\"\n",
      "Pedro's\n",
      "Pedr0 '\n"
     ]
    }
   ],
   "source": [
    "print('\"Hello World\"')\n",
    "print(\"Pedro's\") \n",
    "print('Predro\\'s')  "
   ]
  },
  {
   "cell_type": "markdown",
   "metadata": {},
   "source": [
    "Sin embargo, la capacidad de usar `'` y `\"` es útil si su cadena necesita contener otro tipo de delimitadores de cadena. Esto se debe a que una comilla simple se puede incrustar en una cadena definida usando comillas dobles y viceversa. Si sólo quisieramos emplear comillas simples (o sólo dobles) lo que se debe hacer es indicar mediante un **backslash** ( \\ ), de esta forma Python sabe que no estamos terminando la cadena, sino que queremos que aparezca este símbolo (o caracter) en nuestra cadena.\n",
    "\n",
    "Una tercera alternativa es el uso de comillas triples, que a primera vista pueden parecer un poco difíciles de manejar, pero permiten que una cadena admita cadenas de varias líneas, a diferencia de las otras dos opciones, por ejemplo:"
   ]
  },
  {
   "cell_type": "code",
   "execution_count": 8,
   "metadata": {},
   "outputs": [
    {
     "name": "stdout",
     "output_type": "stream",
     "text": [
      "\n",
      "Hello \n",
      "   World\n",
      "\n"
     ]
    }
   ],
   "source": [
    "hello = \"\"\"\n",
    "Hello \n",
    "   World\n",
    "\"\"\" \n",
    "print(hello)"
   ]
  },
  {
   "cell_type": "markdown",
   "metadata": {},
   "source": [
    "## 6.3. ¿Qué es una cadena? \n",
    "\n",
    "A este punto hemos definido a una cadena como cualquier cosa que podemos introducir con el teclado y que lo escribimos empleando comillas (simples, dobles o triples). Sin embargo, los número también se introducen con el teclado, entonces ¿Cuál es la diferencia entre los siguientes sentencias en Python?"
   ]
  },
  {
   "cell_type": "code",
   "execution_count": 35,
   "metadata": {},
   "outputs": [
    {
     "name": "stdout",
     "output_type": "stream",
     "text": [
      "<class 'int'>\n",
      "<class 'str'>\n"
     ]
    }
   ],
   "source": [
    "num = 5 + 7\n",
    "string = '5 + 7'\n",
    "\n",
    "# La respuesta a esta pregunta la obtenemos al aplicar la función type() a nuestras variables\n",
    "print(type(num))\n",
    "print(type(string))"
   ]
  },
  {
   "cell_type": "markdown",
   "metadata": {},
   "source": [
    "La función `type()` indica qué **tipo** es una variable o sentencia. El tipo es, de una forma muy simplificada, cómo debe guardar la información la computadora; como veremos más adelante, no es lo mismo guardar un número entero, que un número real (o flotante). A menudo se dice que Python no tiene tipo, pero como se mostró arriba eso no es cierto pues Python es un lenguaje de tipo dinámico con todos los datos que tienen un tipo asociado. A diferencia de otros lenguajes (por ejempo C) para que la computadora sepa cómo almacenar a una variable ésta se debe declarar (es decir, explícitamente se indica qué tipo tiene una variable antes de emplearla) sin embargo en Python basta con la sintaxis que le demos al usarla por primera vez.\n",
    "\n",
    "En el códigode arriba aparence los términos `int` (entero) y `str` (cadena), y la función  `type()` nos dice que cada variable es de alguna de estas **clases**. La cadena es una clase y Python admite ideas de la programación orientada a objetos, como las clases, que abordaremos más adelante en el curso).\n",
    "\n",
    "Cabe mencionar que una definición más completa de las cadenas es que son **colecciones de caracteres**, dejando la pregunta abierta de qué es un caracter.\n",
    "\n",
    "### 6.3.1. Operaciones ariteméticas con cadenas\n",
    "\n",
    "En términos de Python, esto significa qué operaciones o funciones están disponibles o incorporadas que puede usar para trabajar con cadenas. La respuesta es que hay muchas. Algunos de estos se describen en esta sección.\n",
    "\n",
    "#### Concatenación de cadenas\n",
    "\n",
    "Puede concatenar dos cadenas usando el operador `+` (un operador es una operación o comportamiento que se puede aplicar a los tipos involucrados). Es decir, puede tomar una cadena y agregarla a otra cadena para crear una nueva tercera cadena:"
   ]
  },
  {
   "cell_type": "code",
   "execution_count": 36,
   "metadata": {},
   "outputs": [
    {
     "name": "stdout",
     "output_type": "stream",
     "text": [
      "Good day\n",
      "Hello, World!\n"
     ]
    }
   ],
   "source": [
    "string_1 = 'Good'\n",
    "string_2 = \" day\"\n",
    "string_3 = string_1 + string_2 \n",
    "print(string_3)\n",
    "\n",
    "print('Hello' + ',' + ' ' + 'World' + '!')"
   ]
  },
  {
   "cell_type": "markdown",
   "metadata": {},
   "source": [
    "Observe que la forma en que se define la cadena no importa aquí, `string_1` usaba comillas simples pero `string_2` usaba comillas dobles sin embargo, ambas son solo cadenas.\n",
    "\n",
    "#### Repetir cadenas\n",
    "\n",
    "También podemos usar el operador `*` con las cadenas. En el caso de las cadenas, esto significa repetir la cadena dada un cierto número de veces. Esto genera una nueva cadena que contiene la cadena original repetida n varias veces. Por ejemplo:"
   ]
  },
  {
   "cell_type": "code",
   "execution_count": 50,
   "metadata": {},
   "outputs": [
    {
     "name": "stdout",
     "output_type": "stream",
     "text": [
      "Ora, ora, ora, ora, ora, ora, ora, ora, ora, ora, ora, ora.\n"
     ]
    }
   ],
   "source": [
    "golpe = 'ora'\n",
    "star_platinum = 'Ora, ' + 10 * (golpe + ', ') + golpe + '.'\n",
    "\n",
    "print(star_platinum)"
   ]
  },
  {
   "cell_type": "markdown",
   "metadata": {},
   "source": [
    "#### Longitud de una cadena\n",
    "\n",
    "Muchas veces es útil conocer cuántos caractere tiene una cadena, es decir qué tan larga es.Por ejemplo, si está colocando una cadena en una interfaz de usuario, es posible que necesite saber qué cantidad de la cadena se mostrará dentro de un campo. Para averiguar la longitud de una cadena en Python, use la función `len()`, por ejemplo:"
   ]
  },
  {
   "cell_type": "code",
   "execution_count": 38,
   "metadata": {},
   "outputs": [
    {
     "name": "stdout",
     "output_type": "stream",
     "text": [
      "3\n",
      "53\n"
     ]
    }
   ],
   "source": [
    "print(len(golpe)) # nos dá el número de elementos o caracteres que conforman a la cadena string_3\n",
    "print(len(star_platinum))"
   ]
  },
  {
   "cell_type": "markdown",
   "metadata": {},
   "source": [
    "Habíamos comentado que los bloques que contruyen a las cadenas son los caracteres entonces, si queremos modificar, y no sólo aumentar la longitud de las cadenas hay que trabajar con ellos y conocerlos."
   ]
  },
  {
   "cell_type": "markdown",
   "metadata": {
    "tags": []
   },
   "source": [
    "## 6.4 ¿Qué es un caracter?"
   ]
  },
  {
   "cell_type": "markdown",
   "metadata": {},
   "source": [
    "Ya hemos discutido que algunos caracteres son las entradas del teclado pero no todos los caracteres los puedo escribir con el teclado. Pensemos en el uso de las letra **ñ**. Ésta es un caracter en teclado hispano sin embargo en el teclado anglosajón no lo es y no por eso deja de ser un caracter. Para este tipo de caracteres a veces es necesario emplear una notación especial, como lo hicimos con `\\'`."
   ]
  },
  {
   "cell_type": "code",
   "execution_count": 19,
   "metadata": {},
   "outputs": [
    {
     "name": "stdout",
     "output_type": "stream",
     "text": [
      "Puedo poner saltos de renglón con \\n\n",
      "e incluso tabulaciones con \\t\ty hasta emojis \\U0001F436->🐶\n"
     ]
    }
   ],
   "source": [
    "string = \"Puedo poner saltos de renglón con \\\\n\\ne incluso tabulaciones con \\\\t\\ty hasta emojis \\\\U0001F436->\\U0001F436\"\n",
    "print(string)"
   ]
  },
  {
   "cell_type": "markdown",
   "metadata": {},
   "source": [
    "Como se obervó, los elemnos con **backslash** son caracteres especiales que introduzco mediante algún código. Los más comunes son los saltos de línea `\\n` o las tabulaciones `\\t` sin embargo hay muchos más y uno de ells son los emojis como se muesta arriba. El códugo que empleamos para poner tantos caractéres, incluso sin tenerlos en el teclado se llama **Unicode** y en particular usamos su codificación UFT-8, que significa que los caracteres pueden ser de hasta 8 bits (pero puede haber de más bits, como de 16). Los bits (combinación de 0's y 1's) es la forma en la que la computadora procesa y guarada información\n",
    "pero para entrear en más detalles, hablemos de los **caracteres**.\n",
    "\n",
    "<center>\n",
    "        <img src = \"../Images/base2.jpg\"  width=\"300\">\n",
    " </center>\n",
    "\n",
    "Que la computadora procese infromación en 8 o 16 bits significa que hay 2^8 o 2^16 posibles combinaciones de ceros y unos; éstas combinaciones están almacenadas en la memoria de la computadora. Cada una de las combinaciones sirven para identificar acaracteres dinstintos Y la forma de identificarlos es numerándolos, es decir que al final de cuentas los **caracteres son número enteros positivos**. El unicode es sólo una convención de cómo ordenar a tantos caracteres, [la cual pueden consultar en línea](https://unicode-table.com/es/). Para poder modificar una cadena, entonces, necesitampos acceder a los caracteres."
   ]
  },
  {
   "cell_type": "markdown",
   "metadata": {},
   "source": [
    "### 6.4.1 Acceder a un caracter \n",
    "\n",
    "Los caracteres son símplemente los elementos ordenados que conforman a nuestras cadenas. Para manipularlos tenemos que espefificar su posición y esto lo hacemos mediente corchetes y enumerando al primere caraceter en la lista con el índice cero. Como sólo nos importa el orden, también podemos comenazar a contarlos desde atrás:"
   ]
  },
  {
   "cell_type": "code",
   "execution_count": 45,
   "metadata": {},
   "outputs": [
    {
     "name": "stdout",
     "output_type": "stream",
     "text": [
      "La variable name es:  Pedro-Porras es de tipo <class 'str'>\n",
      "La primera letra es P\n",
      "La última letra la puede escribir como: s\n",
      "También puedo acceder a la última letra usando len(name)-1: s\n",
      "Para una caracter intermedio, sólo debo de seleccionar su índice: r\n"
     ]
    }
   ],
   "source": [
    "name = 'Pedro-Porras'\n",
    "print('La variable name es: ', name, 'es de tipo', type(name))\n",
    "\n",
    "print(\"La primera letra es\", name[0])\n",
    "print(\"La última letra la puede escribir como:\", name[-1],)\n",
    "print(\"También puedo acceder a la última letra usando len(name)-1:\", name[len(name)-1]) # len() nos da el número de caracteres, pero contamos desde cero, entonces hay que mover nuestro origen de 1 a 0.\n",
    "print(\"Para una caracter intermedio, sólo debo de seleccionar su índice:\", name[8])\n"
   ]
  },
  {
   "cell_type": "markdown",
   "metadata": {},
   "source": [
    "Lo cierto es que no siempre queremos trabajar con caracteres individuales, sino con un conjunto de ellos (que es lo mismo que un subconjunto de la cadena original). Para esto empleamos la notación de corchetes con dos puntos:\n",
    "\n",
    "``` python\n",
    "string[i:j]\n",
    "```\n",
    "\n",
    "lo que nos dice que sólo se tomará del caracter `i` al  `j`. Como casos especiales tenemos que `string[0:i]` es equivalente a `string[:i]`, así como `string[j:-1]` es equivalente a `string[j:]`."
   ]
  },
  {
   "cell_type": "code",
   "execution_count": 60,
   "metadata": {},
   "outputs": [
    {
     "name": "stdout",
     "output_type": "stream",
     "text": [
      "Ora, ora, ora, ora, ora, ora, ora, ora, ora, ora, ora, ora.\n",
      "Ora, ora, ora, ora, \n",
      "ora, ora, ora, ora, ora, ora, ora.\n",
      "ora, \n"
     ]
    }
   ],
   "source": [
    "print(star_platinum)\n",
    "len_ora = len(golpe) + 2 # los caracteres de golpe (3) más el del espacio (1) y el de la coma (2) = 5\n",
    "\n",
    "# Seleccionamos los primeros cuatro golpes\n",
    "print(star_platinum[:4 * len_ora])\n",
    "\n",
    "# Seleccionamos del quinto golpe al último\n",
    "print(star_platinum[5 * len_ora:])\n",
    "\n",
    "# Seleccionamos el del cuarto al sexto golpe\n",
    "print(star_platinum[4 * len_ora : 5 * len_ora])"
   ]
  },
  {
   "cell_type": "markdown",
   "metadata": {},
   "source": [
    "Notemos que `len_ora = 5`, por lo que se selecciona del elemento en adelante. Notemos que hay `star_platinum` tiene 12 golpes, sin embargo al realizar dicho cálculo nos marca un error. Esto porque no debemos olvidar que contamos desde el `0`."
   ]
  },
  {
   "cell_type": "code",
   "execution_count": 64,
   "metadata": {},
   "outputs": [
    {
     "ename": "IndexError",
     "evalue": "string index out of range",
     "output_type": "error",
     "traceback": [
      "\u001b[0;31m---------------------------------------------------------------------------\u001b[0m",
      "\u001b[0;31mIndexError\u001b[0m                                Traceback (most recent call last)",
      "\u001b[0;32m<ipython-input-64-d68b11572a7f>\u001b[0m in \u001b[0;36m<module>\u001b[0;34m\u001b[0m\n\u001b[0;32m----> 1\u001b[0;31m \u001b[0mstar_platinum\u001b[0m\u001b[0;34m[\u001b[0m\u001b[0;36m12\u001b[0m\u001b[0;34m*\u001b[0m\u001b[0mlen_ora\u001b[0m\u001b[0;34m]\u001b[0m\u001b[0;34m\u001b[0m\u001b[0;34m\u001b[0m\u001b[0m\n\u001b[0m",
      "\u001b[0;31mIndexError\u001b[0m: string index out of range"
     ]
    }
   ],
   "source": [
    "star_platinum[12*len_ora]"
   ]
  },
  {
   "cell_type": "code",
   "execution_count": 75,
   "metadata": {},
   "outputs": [
    {
     "data": {
      "text/plain": [
       "'.'"
      ]
     },
     "execution_count": 75,
     "metadata": {},
     "output_type": "execute_result"
    }
   ],
   "source": [
    "star_platinum[(len_ora*12 -1) -1] #El -1 dentro del paréntesis es porque el último golpe no tiene un espacio."
   ]
  },
  {
   "cell_type": "markdown",
   "metadata": {},
   "source": [
    "### 6.4.2 Caracteres y representación como números"
   ]
  },
  {
   "cell_type": "markdown",
   "metadata": {},
   "source": [
    "Ya establecimos que los caracteres son únicamente número enteres asociados a un símbolo (letras, números, emojis, etc.), por lo que en principio podemos sumarlos o multiplicarlos, e ingénuamente podríamos hacer lo siguiente"
   ]
  },
  {
   "cell_type": "code",
   "execution_count": 83,
   "metadata": {},
   "outputs": [
    {
     "name": "stdout",
     "output_type": "stream",
     "text": [
      "15\n"
     ]
    }
   ],
   "source": [
    "str_1 = '1'\n",
    "str_5 = '5'\n",
    "\n",
    "print( str_1 + str_5 ) # Pero 5 + 1 da 6, no 15.... sólo las está concatenando!"
   ]
  },
  {
   "cell_type": "markdown",
   "metadata": {},
   "source": [
    "Para poder manipular los enteros asociados a los caracteres podemos emplear la función `ord()` que es la que nos da el número o entero asociado a un caracter según el Unicode."
   ]
  },
  {
   "cell_type": "code",
   "execution_count": 86,
   "metadata": {},
   "outputs": [
    {
     "name": "stdout",
     "output_type": "stream",
     "text": [
      "num_5 =  53\n",
      "num_1 =  49\n"
     ]
    }
   ],
   "source": [
    "num_5 = ord(str_5) # Nos da el entero asociado al caracter 5 según el Unicode; ord() porque el unicode tiene un orden determinado\n",
    "num_1 = ord(str_1)\n",
    "\n",
    "print(\"num_5 = \", num_5)  \n",
    "print(\"num_1 = \", num_1)"
   ]
  },
  {
   "cell_type": "markdown",
   "metadata": {},
   "source": [
    "Esto significa que el caracter '1' está en la posición 49 del únicode y cuatro lugares después, en el 49, está el '5'. Vemos que los dígitos arábigos están ordenados como '0', '1', '2',...'9'. entonces, podemos operarlos de la siguiente manera:"
   ]
  },
  {
   "cell_type": "code",
   "execution_count": 92,
   "metadata": {},
   "outputs": [
    {
     "name": "stdout",
     "output_type": "stream",
     "text": [
      "6\n",
      "🐶 =  128054\n"
     ]
    },
    {
     "ename": "TypeError",
     "evalue": "ord() expected a character, but string of length 2 found",
     "output_type": "error",
     "traceback": [
      "\u001b[0;31m---------------------------------------------------------------------------\u001b[0m",
      "\u001b[0;31mTypeError\u001b[0m                                 Traceback (most recent call last)",
      "\u001b[0;32m<ipython-input-92-f8b14a412ef6>\u001b[0m in \u001b[0;36m<module>\u001b[0;34m\u001b[0m\n\u001b[1;32m      8\u001b[0m \u001b[0;34m\u001b[0m\u001b[0m\n\u001b[1;32m      9\u001b[0m \u001b[0;31m# Hay que recordar que ord() actúa sobre caracteres y no sobre cadenas, razón por la que lo siguiente sería un error:\u001b[0m\u001b[0;34m\u001b[0m\u001b[0;34m\u001b[0m\u001b[0;34m\u001b[0m\u001b[0m\n\u001b[0;32m---> 10\u001b[0;31m \u001b[0mord\u001b[0m\u001b[0;34m(\u001b[0m \u001b[0mstr_1\u001b[0m \u001b[0;34m+\u001b[0m \u001b[0mstr_5\u001b[0m\u001b[0;34m)\u001b[0m\u001b[0;34m\u001b[0m\u001b[0;34m\u001b[0m\u001b[0m\n\u001b[0m",
      "\u001b[0;31mTypeError\u001b[0m: ord() expected a character, but string of length 2 found"
     ]
    }
   ],
   "source": [
    "num_5 = ord(str_5) - ord('0') # Restamos la posición del valor cero en unicode, para redefinir a nuestro cero\n",
    "num_1 = ord(str_1) - ord('0')\n",
    "\n",
    "print( num_5 + num_1) # Ahora sí, ya tenemos nuesto resultado\n",
    "\n",
    "str_dog = '\\U0001F436' # éste es el emoji del perrito (es decir un solo caracter)\n",
    "print( str_dog + \" = \", ord(str_dog) ) # Notemos que 1F436 (Hexadecimal) = 128054 (decimal)\n",
    "\n",
    "# Hay que recordar que ord() actúa sobre caracteres y no sobre cadenas, razón por la que lo siguiente sería un error:\n",
    "ord( str_1 + str_5)"
   ]
  },
  {
   "cell_type": "markdown",
   "metadata": {},
   "source": [
    "## 6.5 Operaciones sobre cadenas\n",
    "\n",
    "Con la sección anterior y entendiendo qué es una cadena y un caracter, podemos suponer que cualquier manipulación de la cadena la podemos hacer operando sobre sus número enteres. Esto es cierto sin embargo, ya hay funciones dentro de Python que permiten manipular a las cadenas sin necesidad de que nosotros programemos dichas operaciones. Como estas operaciones actúan sobre cadenas únicamente, tienen una sitaxis especial como se verá a continuación:\n",
    "\n",
    "> **string**.function(arguments)"
   ]
  },
  {
   "cell_type": "markdown",
   "metadata": {
    "tags": []
   },
   "source": [
    "### Contando cadenas\n",
    "\n",
    "Es posible averiguar cuántas veces se repite una cadena en otra cadena. Esto se hace usando la operación `count()` por ejemplo"
   ]
  },
  {
   "cell_type": "code",
   "execution_count": 105,
   "metadata": {},
   "outputs": [
    {
     "name": "stdout",
     "output_type": "stream",
     "text": [
      "my_string.count(''): 2\n",
      "\n",
      "star_platinum =  Ora, ora, ora, ora, ora, ora, ora, ora, ora, ora, ora, ora.\n",
      "star_platinum contiene  12  golpes.\n"
     ]
    }
   ],
   "source": [
    "my_string = 'Count, the number of  spaces nu'\n",
    "times_nu = my_string.count('nu')\n",
    "print(\"my_string.count(''):\", times_nu)\n",
    "\n",
    "print(\"\\nstar_platinum = \", star_platinum )\n",
    "print(\"star_platinum contiene \", star_platinum.count('ra'), \" golpes.\") # El criterio para contarlo fue 'ra' pues 'O' es distinto a 'o',"
   ]
  },
  {
   "cell_type": "markdown",
   "metadata": {},
   "source": [
    "### Sustitución de cadenas\n",
    "\n",
    "Una cadena puede reemplazar una subcadena en otra cadena. Esto se hace usando el método `replace()` en una cadena. Por ejemplo:"
   ]
  },
  {
   "cell_type": "code",
   "execution_count": 106,
   "metadata": {},
   "outputs": [
    {
     "name": "stdout",
     "output_type": "stream",
     "text": [
      "Hello World!\n",
      "Goodbye World!\n"
     ]
    }
   ],
   "source": [
    "welcome_message = 'Hello World!' \n",
    "print(welcome_message)\n",
    "print(welcome_message.replace(\"Hello\", \"Goodbye\"))"
   ]
  },
  {
   "cell_type": "markdown",
   "metadata": {},
   "source": [
    "### Encontrar subcadenas\n",
    "\n",
    "Puede averiguar si una cadena es una subcadena de otra cadena utilizando el método `find()`. Este método toma una segunda cadena como parámetro y verifica si esa cadena está en la cadena que recibe el método `find()`, por ejemplo:\n",
    "```python\n",
    "string.find(string_to_find)\n",
    "```\n",
    "El método devuelve -1 si la cadena no está presente. De lo contrario, devuelve un índice que indica el inicio de la subcadena. Por ejemplo:"
   ]
  },
  {
   "cell_type": "code",
   "execution_count": 108,
   "metadata": {},
   "outputs": [
    {
     "name": "stdout",
     "output_type": "stream",
     "text": [
      "7\n",
      "-1\n"
     ]
    }
   ],
   "source": [
    "print('Edward Alun Rawlings'.find('Alun'))\n",
    "print('Edward John Rawlings'.find('Alun'))"
   ]
  },
  {
   "cell_type": "markdown",
   "metadata": {},
   "source": [
    "### Convertir otros tipos en cadenas \n",
    "\n",
    "Si intenta utilizar el operador de concatenación `+` con una cadena y algún otro tipo, como un número, obtendrá un error. Por ejemplo, si intenta lo siguiente:"
   ]
  },
  {
   "cell_type": "code",
   "execution_count": 109,
   "metadata": {},
   "outputs": [
    {
     "ename": "TypeError",
     "evalue": "must be str, not int",
     "output_type": "error",
     "traceback": [
      "\u001b[0;31m---------------------------------------------------------------------------\u001b[0m",
      "\u001b[0;31mTypeError\u001b[0m                                 Traceback (most recent call last)",
      "\u001b[0;32m<ipython-input-109-4e7f96d7da07>\u001b[0m in \u001b[0;36m<module>\u001b[0;34m\u001b[0m\n\u001b[0;32m----> 1\u001b[0;31m \u001b[0mmsg\u001b[0m \u001b[0;34m=\u001b[0m \u001b[0;34m'Hello Lloyd you are '\u001b[0m \u001b[0;34m+\u001b[0m \u001b[0;36m21\u001b[0m\u001b[0;34m\u001b[0m\u001b[0;34m\u001b[0m\u001b[0m\n\u001b[0m\u001b[1;32m      2\u001b[0m \u001b[0mprint\u001b[0m\u001b[0;34m(\u001b[0m\u001b[0mmsg\u001b[0m\u001b[0;34m)\u001b[0m\u001b[0;34m\u001b[0m\u001b[0;34m\u001b[0m\u001b[0m\n",
      "\u001b[0;31mTypeError\u001b[0m: must be str, not int"
     ]
    }
   ],
   "source": [
    "msg = 'Hello Lloyd you are ' + 21 \n",
    "print(msg)"
   ]
  },
  {
   "cell_type": "markdown",
   "metadata": {},
   "source": [
    "Recibirá un mensaje de error que indica que solo puede concatenar cadenas con cadenas, no enteros con cadenas. Para concatenar un número como 21 con una cadena, debe convertirlo en una cadena. Esto se puede hacer usando la función `str()`. Este concurso de cualquier tipo en una representación de cadena de ese tipo. Por ejemplo:"
   ]
  },
  {
   "cell_type": "code",
   "execution_count": 110,
   "metadata": {},
   "outputs": [
    {
     "name": "stdout",
     "output_type": "stream",
     "text": [
      "Hello Lloyd you are 21\n"
     ]
    }
   ],
   "source": [
    "msg = 'Hello Lloyd you are ' + str(21) \n",
    "print(msg)"
   ]
  },
  {
   "cell_type": "markdown",
   "metadata": {},
   "source": [
    "### Comparar cadenas\n",
    "\n",
    "Para comparar una cadena con otra, puede usar los operadores '==' igualdad y '! =' No es igual a. Estos compararán dos cadenas y devolverán Verdadero o Falso, indicando si las cadenas son iguales o no.\n",
    "Por ejemplo:"
   ]
  },
  {
   "cell_type": "code",
   "execution_count": null,
   "metadata": {},
   "outputs": [],
   "source": [
    "'James' != 'James'"
   ]
  },
  {
   "cell_type": "code",
   "execution_count": null,
   "metadata": {},
   "outputs": [],
   "source": [
    "print('James' == 'James') # prints True \n",
    "print('James' == 'John') # prints False \n",
    "print('James' != 'John') # prints True"
   ]
  },
  {
   "cell_type": "markdown",
   "metadata": {},
   "source": [
    "### Otras operaciones de cadena\n",
    "\n",
    "De hecho, hay muchas operaciones diferentes disponibles para cadenas, incluida la verificación de que una cadena comienza o termina con otra cadena, es decir, mayúsculas o minúsculas, etc. También es posible reemplazar parte de una cadena con otra cadena, convertir cadenas a mayúscula, minúscula o título, etc."
   ]
  },
  {
   "cell_type": "code",
   "execution_count": 100,
   "metadata": {},
   "outputs": [
    {
     "name": "stdout",
     "output_type": "stream",
     "text": [
      "Testing a String\n",
      "--------------------\n",
      "some_string =  Hello World\n",
      "--------------------\n",
      "some_string.startswith('H') True\n",
      "some_string.startswith('h') False\n",
      "some_string.endswith('d') True\n",
      "some_string.istitle() True\n",
      "some_string.isupper() False\n",
      "some_string.islower() False\n",
      "some_string.isalpha() False\n",
      "String conversions\n",
      "--------------------\n",
      "some_string.upper() HELLO WORLD\n",
      "some_string.lower() hello world\n",
      "some_string.title() Hello World\n",
      "some_string.swapcase() hELLO wORLD\n",
      "String leading, trailing spaces xyz\n"
     ]
    }
   ],
   "source": [
    "some_string = 'Hello World'\n",
    "print('Testing a String')\n",
    "print('-' * 20)\n",
    "print('some_string = ', some_string) \n",
    "print('-' * 20)\n",
    "print(\"some_string.startswith('H')\", some_string.startswith('H')) \n",
    "print(\"some_string.startswith('h')\", some_string.startswith('h'))\n",
    "print(\"some_string.endswith('d')\", some_string.endswith('d')) \n",
    "print('some_string.istitle()', some_string.istitle()) \n",
    "print('some_string.isupper()', some_string.isupper()) \n",
    "print('some_string.islower()', some_string.islower()) \n",
    "print('some_string.isalpha()', some_string.isalpha())\n",
    "print('String conversions')\n",
    "print('-' * 20)\n",
    "print('some_string.upper()', some_string.upper())\n",
    "print('some_string.lower()', some_string.lower()) \n",
    "print('some_string.title()', some_string.title()) \n",
    "print('some_string.swapcase()', some_string.swapcase())\n",
    "print('String leading, trailing spaces', \" xyz \".strip())"
   ]
  },
  {
   "cell_type": "markdown",
   "metadata": {},
   "source": [
    "\n",
    "### 6.5.1 Descoposición de cadenas\n",
    "\n",
    "Un requisito muy común es la necesidad de dividir una cadena en varias cadenas separadas en función de un carácter específico, como un espacio o una coma.\n",
    "Esto se puede hacer con la función `split()`, que utiliza una cadena para identificar cómo dividir la cadena receptora. Por ejemplo:"
   ]
  },
  {
   "cell_type": "code",
   "execution_count": 111,
   "metadata": {},
   "outputs": [
    {
     "name": "stdout",
     "output_type": "stream",
     "text": [
      "Source string: The Good, The Bad, and the Ugly\n",
      "Split using a space\n",
      "['The', 'Good,', 'The', 'Bad,', 'and', 'the', 'Ugly']\n",
      "Split using a comma\n",
      "['The Good', ' The Bad', ' and the Ugly']\n",
      "<class 'list'> ['The Good', ' The Bad', ' and the Ugly']\n"
     ]
    }
   ],
   "source": [
    "title = 'The Good, The Bad, and the Ugly' \n",
    "print('Source string:', title)\n",
    "\n",
    "print('Split using a space') \n",
    "print(title.split(' ')) #Vamos a separar (split) a title, y nuestro criterio será un espacio en blanco\n",
    "\n",
    "print('Split using a comma')  # Criterio de separación, una coma\n",
    "print(title.split(','))\n",
    "\n",
    "adjetives = title.split(',')\n",
    "print(type(adjetives), adjetives)"
   ]
  },
  {
   "cell_type": "markdown",
   "metadata": {},
   "source": [
    "\n",
    "### Lista"
   ]
  },
  {
   "cell_type": "markdown",
   "metadata": {},
   "source": [
    "Una lista es un tipo en Python que se define:\n",
    "```python\n",
    "lista = []```"
   ]
  },
  {
   "cell_type": "code",
   "execution_count": null,
   "metadata": {},
   "outputs": [],
   "source": [
    "list_one = [2, 3, 4, 5, 6, 8, 9]"
   ]
  },
  {
   "cell_type": "code",
   "execution_count": null,
   "metadata": {},
   "outputs": [],
   "source": [
    "len(list_one)"
   ]
  },
  {
   "cell_type": "code",
   "execution_count": null,
   "metadata": {},
   "outputs": [],
   "source": [
    "list_one[1:4]"
   ]
  },
  {
   "cell_type": "code",
   "execution_count": null,
   "metadata": {},
   "outputs": [],
   "source": [
    "list_one[3:]"
   ]
  },
  {
   "cell_type": "code",
   "execution_count": null,
   "metadata": {},
   "outputs": [],
   "source": [
    "list_one[:4]"
   ]
  },
  {
   "cell_type": "code",
   "execution_count": null,
   "metadata": {},
   "outputs": [],
   "source": [
    "list_one[-1]"
   ]
  },
  {
   "cell_type": "code",
   "execution_count": null,
   "metadata": {},
   "outputs": [],
   "source": [
    "type(list_one[3])"
   ]
  },
  {
   "cell_type": "code",
   "execution_count": null,
   "metadata": {},
   "outputs": [],
   "source": [
    "print(title)\n",
    "print(adjetives)\n",
    "print(adjetives[0])\n",
    "print(type(adjetives[0]))"
   ]
  },
  {
   "cell_type": "code",
   "execution_count": null,
   "metadata": {},
   "outputs": [],
   "source": [
    "numbers = input('Dar dos numeros separados por un espacio')\n",
    "list_numbers =  numbers.split(' ')\n",
    "print('Los numeros ingresados son: ', list_numbers[0], \" y \",list_numbers[1])"
   ]
  },
  {
   "cell_type": "code",
   "execution_count": null,
   "metadata": {},
   "outputs": [],
   "source": [
    "print(\"Hello wordl!\")"
   ]
  },
  {
   "cell_type": "markdown",
   "metadata": {},
   "source": [
    "## 6.5. Formato de cadena "
   ]
  },
  {
   "cell_type": "markdown",
   "metadata": {},
   "source": [
    " \n",
    "4\n",
    "1. Introducción al análisis estructurado.\n",
    "5\n",
    "        1. Algoritmos y diagramas de flujo de un programa.\n",
    "6\n",
    "        2. Estructura de la programación modular.\n",
    "7\n",
    "        3. Sistemas numéricos de punto flotante y cálculo del error numérico.Python proporciona un sofisticado sistema de formato para cadenas que puede ser útil para imprimir información o registrar información de un programa.\n",
    "\n",
    "El sistema de formato de cadenas utiliza una cadena especial conocida como cadena de formato que actúa como un patrón que define cómo se distribuirá la cadena final. Esta cadena de formato puede contener marcadores de posición que se reemplazarán con valores reales cuando se cree la cadena final. Se puede aplicar un conjunto de valores a la cadena de formato para llenar los marcadores de posición utilizando el método `format()`.\n",
    "\n",
    "El ejemplo más simple de una cadena de *formato* es uno que proporciona un marcador de posición único indicado por dos llaves (`{}`). Por ejemplo, la siguiente es una cadena de formato con el patrón 'Hola' seguido de un marcador de posición:\n"
   ]
  },
  {
   "cell_type": "code",
   "execution_count": null,
   "metadata": {},
   "outputs": [],
   "source": [
    "name = 'Pedro'\n",
    "number = 409076332"
   ]
  },
  {
   "cell_type": "code",
   "execution_count": null,
   "metadata": {},
   "outputs": [],
   "source": [
    "student = f'{name} tiene como numero de cuenta {number}'"
   ]
  },
  {
   "cell_type": "code",
   "execution_count": null,
   "metadata": {},
   "outputs": [],
   "source": [
    "print(student)"
   ]
  },
  {
   "cell_type": "code",
   "execution_count": null,
   "metadata": {},
   "outputs": [],
   "source": [
    "format_string = f'Hello {name}!'"
   ]
  },
  {
   "cell_type": "code",
   "execution_count": null,
   "metadata": {},
   "outputs": [],
   "source": [
    "print(format_string)"
   ]
  },
  {
   "cell_type": "markdown",
   "metadata": {},
   "source": [
    "Esto se puede usar con el método de cadena `format()` para proporcionar un valor (o completar) el marcador de posición, por ejemplo:"
   ]
  },
  {
   "cell_type": "code",
   "execution_count": null,
   "metadata": {},
   "outputs": [],
   "source": [
    "format_string = 'Hello {}!'"
   ]
  },
  {
   "cell_type": "code",
   "execution_count": null,
   "metadata": {},
   "outputs": [],
   "source": [
    "print(format_string.format('Phoebe'))"
   ]
  },
  {
   "cell_type": "markdown",
   "metadata": {},
   "source": [
    "Una cadena de formato puede tener cualquier número de marcadores de posición que se deben completar, por ejemplo, el siguiente ejemplo tiene dos marcadores de posición que se completan al proporcionar dos valores al método `format()`:"
   ]
  },
  {
   "cell_type": "code",
   "execution_count": null,
   "metadata": {},
   "outputs": [],
   "source": [
    "name = \"Adam\"\n",
    "age = 20\n",
    "print(\"{} is {} years old\".format(name, age))"
   ]
  },
  {
   "cell_type": "markdown",
   "metadata": {},
   "source": [
    "# 7. Números \n",
    "\n",
    "En esta sección exploraremos las diferentes formas en que los números pueden ser representados por los tipos incorporados en Python. También presentaremos el tipo booleano utilizado para representar `True` y `Falso`. Como parte de esta discusión, también veremos los operadores numéricos y de asignación en Python. Concluiremos presentando el valor especial conocido como `None`."
   ]
  },
  {
   "cell_type": "markdown",
   "metadata": {},
   "source": [
    "## 7.1. Tipos de números\n",
    "\n",
    "Hay tres tipos utilizados para representar números en Python; Estos son tipos enteros, números de punto flotante (los cuales veremos más adelante en el curos) y números complejos.\n"
   ]
  },
  {
   "cell_type": "markdown",
   "metadata": {},
   "source": [
    "### 7.1.1. Enteros\n",
    "Todos los valores enteros, sin importar cuán grande o pequeño estén representados por el tipo entero (o `int`) en Python 3. Por ejemplo: "
   ]
  },
  {
   "cell_type": "code",
   "execution_count": null,
   "metadata": {},
   "outputs": [],
   "source": [
    "x = 1\n",
    "print(x)\n",
    "print(type(x))"
   ]
  },
  {
   "cell_type": "code",
   "execution_count": null,
   "metadata": {},
   "outputs": [],
   "source": [
    "x = 100000000000000000000000000000000000000000000000000000000001 \n",
    "print(x)\n",
    "print(type(x))"
   ]
  },
  {
   "cell_type": "code",
   "execution_count": null,
   "metadata": {},
   "outputs": [],
   "source": [
    "x = 45_389\n",
    "print(x)\n",
    "print(type(x))"
   ]
  },
  {
   "cell_type": "markdown",
   "metadata": {},
   "source": [
    "Una manera más comoda es escribir a los enteros usando `_`, por ejemplo:"
   ]
  },
  {
   "cell_type": "code",
   "execution_count": null,
   "metadata": {},
   "outputs": [],
   "source": [
    "x = 200_783_032 \n",
    "print(x)\n",
    "print(type(x))"
   ]
  },
  {
   "cell_type": "markdown",
   "metadata": {},
   "source": [
    "### Convertir a `int`\n",
    "\n",
    "Es posible convertir otro tipo en un entero usando la función `int()`. Por ejemplo, si queremos convertir una cadena en un `int` (suponiendo que la cadena contenga un número entero), podemos hacerlo usando la función int (). Por ejemplo:"
   ]
  },
  {
   "cell_type": "code",
   "execution_count": null,
   "metadata": {},
   "outputs": [],
   "source": [
    "total = int('100')\n",
    "print(total, type(total))"
   ]
  },
  {
   "cell_type": "code",
   "execution_count": null,
   "metadata": {},
   "outputs": [],
   "source": [
    "aux = input('¿Cuál es tu edad ?:')\n",
    "age = int(aux)\n",
    "print(type(age))"
   ]
  },
  {
   "cell_type": "code",
   "execution_count": null,
   "metadata": {},
   "outputs": [],
   "source": [
    "age = int(input('¿Cuál es tu edad ?:'))\n",
    "print(type(age))\n",
    "print(\"Tu pareja debe de tener:\", (age + 18)/2) "
   ]
  },
  {
   "cell_type": "markdown",
   "metadata": {},
   "source": [
    "Esto puede ser útil cuando se usa con la función `input()`.\n",
    "La función `input()` siempre devuelve una cadena. Si queremos pedirle al usuario que ingrese un número entero, necesitaremos convertir la cadena devuelta por la función `input()` en un `int`. Podemos hacer esto envolviendo la llamada a la función `input()` en una llamada a la función `int()`, por ejemplo:\n"
   ]
  },
  {
   "cell_type": "code",
   "execution_count": null,
   "metadata": {},
   "outputs": [],
   "source": [
    "age = int(input('Please enter your age:')) \n",
    "print(type(age))\n",
    "print(age)"
   ]
  },
  {
   "cell_type": "markdown",
   "metadata": {},
   "source": [
    "La función `int()` también se puede usar para convertir un número de coma flotante en un int, por ejemplo:"
   ]
  },
  {
   "cell_type": "code",
   "execution_count": null,
   "metadata": {},
   "outputs": [],
   "source": [
    "print(type(1.0))\n",
    "\n",
    "i = int(2.0000001)\n",
    "\n",
    "print(i , \" \", type(i))"
   ]
  },
  {
   "cell_type": "markdown",
   "metadata": {},
   "source": [
    "###  7.1.2. Números de punto flotante\n",
    "\n",
    "Los números reales, o números de punto flotante, se representan en Python usando el formato de número de punto flotante binario de doble precisión IEEE 754; en su mayor parte no necesita saber esto, pero es algo que más adelante en el curso revidsaremos con detalle.\n",
    "\n",
    "El tipo utilizado para representar un número de coma flotante se llama `float`.\n",
    "\n",
    "Python representa números de punto flotante usando un punto decimal para separar toda la parte de la parte fraccionaria del número, por ejemplo:"
   ]
  },
  {
   "cell_type": "code",
   "execution_count": null,
   "metadata": {},
   "outputs": [],
   "source": [
    "exchange_rate = 1.83 \n",
    "print(exchange_rate) \n",
    "print(type(exchange_rate))"
   ]
  },
  {
   "cell_type": "markdown",
   "metadata": {},
   "source": [
    "### Convertir a números flotantes\n",
    "\n",
    "Al igual que con los enteros, es posible convertir otros tipos, como un `int` o una cadena, en un flotante. Esto se hace usando la función `float()`:"
   ]
  },
  {
   "cell_type": "code",
   "execution_count": null,
   "metadata": {},
   "outputs": [],
   "source": [
    "int_value = 1\n",
    "string_value = '1.5'\n",
    "float_value = float(int_value)\n",
    "print('int value as a float:', float_value) \n",
    "print(type(float_value))\n",
    "float_value = float(string_value) \n",
    "print('string value as a float:', float_value)\n",
    "print(type(float_value))"
   ]
  },
  {
   "cell_type": "markdown",
   "metadata": {},
   "source": [
    "### Convertir una cadena de entrada en un número de punto flotante \n",
    "\n",
    "Como hemos visto, la función `input()` devuelve una cadena; ¿Qué sucede si queremos que el usuario ingrese un número de punto flotante? Como hemos visto anteriormente, una cadena se puede convertir en un número de coma flotante usando la función `float()` y, por lo tanto, podemos usar este enfoque para convertir una entrada del usuario en un flotante:"
   ]
  },
  {
   "cell_type": "code",
   "execution_count": null,
   "metadata": {},
   "outputs": [],
   "source": [
    "exchange_rate = float(input(\"Please enter the exchange rate to use: \"))\n",
    "print(exchange_rate)\n",
    "print(type(exchange_rate))\n"
   ]
  },
  {
   "cell_type": "markdown",
   "metadata": {},
   "source": [
    "### 7.1.3. Números complejos\n",
    "\n",
    "Los números complejos son el tercer tipo de Python de tipo numérico incorporado. Un número complejo se define por una parte real y una parte imaginaria y tiene la forma $a + i b$ (donde $i^2 = - 1$ es la parte imaginaria, $a$ y $b$ son números reales):"
   ]
  },
  {
   "cell_type": "code",
   "execution_count": null,
   "metadata": {},
   "outputs": [],
   "source": [
    "z = 3.0 + 5.0j"
   ]
  },
  {
   "cell_type": "code",
   "execution_count": null,
   "metadata": {},
   "outputs": [],
   "source": [
    "print(z)"
   ]
  },
  {
   "cell_type": "code",
   "execution_count": null,
   "metadata": {},
   "outputs": [],
   "source": [
    "z.imag"
   ]
  },
  {
   "cell_type": "code",
   "execution_count": null,
   "metadata": {},
   "outputs": [],
   "source": [
    "z.real"
   ]
  },
  {
   "cell_type": "code",
   "execution_count": null,
   "metadata": {},
   "outputs": [],
   "source": [
    "c1 = 1j\n",
    "c2 = 2j\n",
    "print('c1:', c1, ', c2:', c2) \n",
    "print(type(c1))\n",
    "print(c1.real)\n",
    "print(c1.imag)"
   ]
  },
  {
   "cell_type": "markdown",
   "metadata": {},
   "source": [
    "### 7.1.4. Valores booleanos\n",
    "\n",
    "Python admite otro tipo llamado booleano; un tipo booleano solo puede ser uno verdadero o falso (y nada más). Tenga en cuenta que estos valores son `True`y `False`. El siguiente ejemplo ilustra el almacenamiento de los dos valores booleanos en una variable `all_ok`:"
   ]
  },
  {
   "cell_type": "code",
   "execution_count": null,
   "metadata": {},
   "outputs": [],
   "source": [
    "names = \"James\" != \"James\"\n",
    "print(type(names), names)"
   ]
  },
  {
   "cell_type": "code",
   "execution_count": null,
   "metadata": {},
   "outputs": [],
   "source": [
    "type(False)"
   ]
  },
  {
   "cell_type": "code",
   "execution_count": null,
   "metadata": {},
   "outputs": [],
   "source": [
    "all_ok = True \n",
    "print(all_ok) \n",
    "all_ok = False \n",
    "print(all_ok) \n",
    "print(type(all_ok))"
   ]
  },
  {
   "cell_type": "markdown",
   "metadata": {},
   "source": [
    "El tipo booleano es en realidad un subtipo de entero (pero solo con los valores Verdadero y Falso), por lo que es fácil de traducir entre los dos, utilizando las funciones `int()` y `bool()` para convertir de Booleanos a Enteros y viceversa. Por ejemplo:"
   ]
  },
  {
   "cell_type": "code",
   "execution_count": null,
   "metadata": {},
   "outputs": [],
   "source": [
    "print('Convertir enteros a boleanos, ', bool(1)) \n",
    "print('Convertir enteros a boleanos, ', bool(0)) \n",
    "print('Convertir boleanos a enteros, ', int(True) )\n",
    "print('Convertir boleanos a enteros, ', int(False))"
   ]
  },
  {
   "cell_type": "markdown",
   "metadata": {},
   "source": [
    "También puede convertir cadenas en booleanos siempre que las cadenas contengan `True` o `False` (y nada más). Por ejemplo:"
   ]
  },
  {
   "cell_type": "code",
   "execution_count": null,
   "metadata": {},
   "outputs": [],
   "source": [
    "status = bool(input('OK to proceed: ')) \n",
    "print(status)\n",
    "print(type(status))"
   ]
  },
  {
   "cell_type": "markdown",
   "metadata": {},
   "source": [
    "##  8. Aritmética de operadores\n",
    "\n",
    "Los operadores aritméticos se utilizan para realizar alguna operación matemática, como la suma, la resta, la multiplicación y la división, etc. En Python están representados por uno o dos caracteres. La siguiente tabla resume los operadores aritméticos de Python:\n",
    "\n",
    "| Operador  |    Descripción   |  Ejemplo |\n",
    "|-----------|------------------|----------|\n",
    "|     +     |    Suma          |  `1 + 2` |\n",
    "|     -     |    Resta         |  `3 - 2` |\n",
    "|     *     |    Multiplicación|  `3 * 4` |\n",
    "|     /     |    División      |  `12 / 3` |\n",
    "|    //     |    División Entera     |  `12 // 3` |\n",
    "|     %     |    Módulo              |  `13 % 3`  |\n",
    "|    **     |    potenica            |  `3 ** 3`  |\n"
   ]
  },
  {
   "cell_type": "code",
   "execution_count": null,
   "metadata": {},
   "outputs": [],
   "source": [
    "2 + 3 "
   ]
  },
  {
   "cell_type": "code",
   "execution_count": null,
   "metadata": {},
   "outputs": [],
   "source": [
    "2- 3"
   ]
  },
  {
   "cell_type": "code",
   "execution_count": null,
   "metadata": {},
   "outputs": [],
   "source": [
    "2*3"
   ]
  },
  {
   "cell_type": "code",
   "execution_count": null,
   "metadata": {},
   "outputs": [],
   "source": [
    "2/3"
   ]
  },
  {
   "cell_type": "code",
   "execution_count": null,
   "metadata": {},
   "outputs": [],
   "source": [
    "3//2"
   ]
  },
  {
   "cell_type": "code",
   "execution_count": null,
   "metadata": {},
   "outputs": [],
   "source": [
    "2%3"
   ]
  },
  {
   "cell_type": "code",
   "execution_count": null,
   "metadata": {},
   "outputs": [],
   "source": [
    "2**3"
   ]
  },
  {
   "cell_type": "code",
   "execution_count": null,
   "metadata": {},
   "outputs": [],
   "source": [
    "2**0.5"
   ]
  },
  {
   "cell_type": "markdown",
   "metadata": {},
   "source": [
    "### 8.1. Operaciones de enteros\n",
    "\n",
    "Dos enteros se pueden sumar usando `+`, por ejemplo `10 + 5`. A su vez, se pueden restar dos enteros `10 - 5` y multiplicar `10 * 4`. Operaciones como `+`, `-` y `*` entre enteros siempre producen resultados enteros.\n",
    "Esto se ilustra a continuación`"
   ]
  },
  {
   "cell_type": "code",
   "execution_count": null,
   "metadata": {},
   "outputs": [],
   "source": [
    "home = 10\n",
    "away = 15\n",
    "print(home + away) \n",
    "print(type(home + away))"
   ]
  },
  {
   "cell_type": "code",
   "execution_count": null,
   "metadata": {},
   "outputs": [],
   "source": [
    "print(home - away) \n",
    "print(type(home - away))"
   ]
  },
  {
   "cell_type": "code",
   "execution_count": null,
   "metadata": {},
   "outputs": [],
   "source": [
    "print(10 * 4) \n",
    "print(type(10*4))"
   ]
  },
  {
   "cell_type": "markdown",
   "metadata": {},
   "source": [
    "Sin embargo, puede notar que hemos perdido la división con respecto a los enteros, ¿por qué es esto? Esto se debe a que depende del operador de división que utilice en cuanto a cuál es realmente el tipo devuelto."
   ]
  },
  {
   "cell_type": "code",
   "execution_count": null,
   "metadata": {},
   "outputs": [],
   "source": [
    "print(100 / 20)\n",
    "print(type(100 / 20))"
   ]
  },
  {
   "cell_type": "code",
   "execution_count": null,
   "metadata": {},
   "outputs": [],
   "source": [
    "res1 = 3/2 \n",
    "print(res1)\n",
    "print(type(res1))"
   ]
  },
  {
   "cell_type": "code",
   "execution_count": null,
   "metadata": {},
   "outputs": [],
   "source": [
    "res1 = 3//2 \n",
    "print(res1)\n",
    "print(type(res1))"
   ]
  },
  {
   "cell_type": "markdown",
   "metadata": {},
   "source": [
    "Pero, ¿qué sucede si solo le interesa la parte restante de una división, el operador de división entera lo ha perdido? Bueno, en ese caso puedes usar la operación de módulo `%`. Este operador devuelve el resto de una operación de división: por ejemplo:"
   ]
  },
  {
   "cell_type": "code",
   "execution_count": null,
   "metadata": {},
   "outputs": [],
   "source": [
    "print('Modulus division 4 % 2:', 4 % 2)\n",
    "print('Modulus division 3 % 2:', 3 % 2)"
   ]
  },
  {
   "cell_type": "markdown",
   "metadata": {},
   "source": [
    "El último operador que veremos es el operador potencia que puede usarse para elevar un número entero por una potencia dada, por ejemplo 5 a la potencia de 3. El operador de potencia es `**`, esto se ilustra a continuación:"
   ]
  },
  {
   "cell_type": "code",
   "execution_count": null,
   "metadata": {},
   "outputs": [],
   "source": [
    "a = 5\n",
    "b = 3\n",
    "print(a ** b)"
   ]
  },
  {
   "cell_type": "code",
   "execution_count": null,
   "metadata": {},
   "outputs": [],
   "source": [
    "3*2**3 + 1"
   ]
  },
  {
   "cell_type": "markdown",
   "metadata": {},
   "source": [
    "### 8.2. División de enteros de números negativos\n",
    "También vale la pena explorar lo que sucede en la división entera y verdadera cuando hay números negativos involucrados. Por ejemplo, "
   ]
  },
  {
   "cell_type": "code",
   "execution_count": 3,
   "metadata": {},
   "outputs": [
    {
     "name": "stdout",
     "output_type": "stream",
     "text": [
      "True division 3/2: 1\n",
      "True division -3/2: -1.5\n",
      "Integer division 3//2: 1\n",
      "Integer division -3//2: -2\n"
     ]
    }
   ],
   "source": [
    "print('True division 3/2:', int( 3 / 2)) \n",
    "print('True division -3/2:', -3 / 2) \n",
    "print('Integer division 3//2:', 3 // 2)\n",
    "print('Integer division -3//2:', -3 // 2)"
   ]
  },
  {
   "cell_type": "markdown",
   "metadata": {},
   "source": [
    "Los primeros tres de estos podrían ser exactamente lo que espera dada nuestra discusión anterior; sin embargo, la salida del último ejemplo puede parecer un poco sorprendente, ¿por qué `3 // 2` genera `1` pero `−3 // 2` genera `−2`?\n",
    "\n",
    "La respuesta es que Python siempre redondea el resultado de la división de enteros hacia menos infinito (que es el número negativo más pequeño posible). Esto significa que extrae el resultado de la división entera al número más pequeño posible,`1` es menor que `1.5` pero `−2` es menor que `−1.5`."
   ]
  },
  {
   "cell_type": "markdown",
   "metadata": {},
   "source": [
    "### 8.3. Floating Point Number Operators\n",
    "\n",
    "También tenemos las operaciones múltiples, restar, sumar y dividir disponibles para números de punto flotante. Todos estos operadores producen nuevos números de punto flotante:"
   ]
  },
  {
   "cell_type": "code",
   "execution_count": null,
   "metadata": {},
   "outputs": [],
   "source": [
    "print(2.3 + 1.5) \n",
    "print(1.5 / 2.3) \n",
    "print(1.5 * 2.3) \n",
    "print(2.3 - 1.5) \n",
    "print(1.5 - 2.3)\n"
   ]
  },
  {
   "cell_type": "markdown",
   "metadata": {},
   "source": [
    "### 8.4. Operaciones de enteros y de punto flotante \n",
    "\n",
    "Cualquier operación que implique números enteros y números de punto flotante siempre producirá un número de punto flotante. Es decir, si uno de los lados de una operación como sumar, restar, dividir o múltiplo es un número de punto flotante, entonces el resultado será un número de punto flotante. Por ejemplo, dado el número entero $3$ y el número de punto flotante $0.1$, si los multiplicamos juntos obtenemos un número de punto flotante:"
   ]
  },
  {
   "cell_type": "code",
   "execution_count": null,
   "metadata": {},
   "outputs": [],
   "source": [
    "i = 3 * 0.1 \n",
    "print(i)"
   ]
  },
  {
   "cell_type": "markdown",
   "metadata": {},
   "source": [
    "### 8.5. Operación de números complejos\n",
    "\n",
    "Por supuesto, puede usar operadores como multiplicar, sumar, restar y dividir con números complejos. Por ejemplo:"
   ]
  },
  {
   "cell_type": "code",
   "execution_count": null,
   "metadata": {},
   "outputs": [],
   "source": [
    "c1 = 1j\n",
    "c2 = 2j\n",
    "c3 = c1 * c2\n",
    "print(c3)"
   ]
  },
  {
   "cell_type": "markdown",
   "metadata": {},
   "source": [
    "También puede convertir otro número o una cadena en un número complejo utilizando la función `complex()`. Por ejemplo:"
   ]
  },
  {
   "cell_type": "code",
   "execution_count": null,
   "metadata": {},
   "outputs": [],
   "source": [
    "complex(2.0)"
   ]
  },
  {
   "cell_type": "markdown",
   "metadata": {},
   "source": [
    "## 9. Operadores de Asignación \n",
    "\n",
    "Anteriormente  presentamos brevemente el operador de asignación `=` que se utilizó para asignar un valor a una variable. De hecho, hay varios operadores de asignación diferentes que podrían usarse con valores numérico.\n",
    "\n",
    "En realidad, estos operadores de asignación se denominan operadores compuestos, ya que combinan una operación numérica (como sumar) con el operador de asignación. Por ejemplo, el operador compuesto `+=` es una combinación del operador *suma* y el operador `= tal que"
   ]
  },
  {
   "cell_type": "code",
   "execution_count": null,
   "metadata": {},
   "outputs": [],
   "source": [
    "x = 0"
   ]
  },
  {
   "cell_type": "code",
   "execution_count": null,
   "metadata": {},
   "outputs": [],
   "source": [
    "x"
   ]
  },
  {
   "cell_type": "code",
   "execution_count": null,
   "metadata": {},
   "outputs": [],
   "source": [
    "x = x + 1"
   ]
  },
  {
   "cell_type": "code",
   "execution_count": null,
   "metadata": {},
   "outputs": [],
   "source": [
    "x"
   ]
  },
  {
   "cell_type": "code",
   "execution_count": null,
   "metadata": {},
   "outputs": [],
   "source": [
    "x = 0\n",
    "x += 5 # has the same behaviour as x = x + 1"
   ]
  },
  {
   "cell_type": "code",
   "execution_count": null,
   "metadata": {},
   "outputs": [],
   "source": [
    "x"
   ]
  },
  {
   "cell_type": "code",
   "execution_count": null,
   "metadata": {},
   "outputs": [],
   "source": [
    "y = 5"
   ]
  },
  {
   "cell_type": "code",
   "execution_count": null,
   "metadata": {},
   "outputs": [],
   "source": [
    "y"
   ]
  },
  {
   "cell_type": "code",
   "execution_count": null,
   "metadata": {},
   "outputs": [],
   "source": [
    "y += 2"
   ]
  },
  {
   "cell_type": "code",
   "execution_count": null,
   "metadata": {},
   "outputs": [],
   "source": [
    "y"
   ]
  },
  {
   "cell_type": "markdown",
   "metadata": {},
   "source": [
    "La siguiente tabla proporciona una lista de los operadores compuestos disponibles.\n",
    "\n",
    "\n",
    "|Operador|                      Descripción                  |  Ejemplo | Equivalente |\n",
    "|--------|---------------------------------------------------|----------|-------------|\n",
    "|  `+=`  |   Agregue el valor a la variable de la izquierda  | `x += 2` |`x =  x + 2` |\n",
    "|  `-=`  |   Resta el valor de la variable de la izquierda   | `x -= 2` |`x =  x - 2` |\n",
    "|  `*=`  |Multiplica la variable de la izquierda por el valor| `x *= 2` |`x =  x * 2` |\n",
    "|  `/=`  |Divide el valor variable por el valor de la derecha| `x /= 2` |`x =  x / 2` |\n",
    "| `//=`  |Use la división entera para dividir el valor de la variable por el valor de la derecha|  `x //= 2` |`x = x // 2` |\n",
    "|  `%=`  |Use el operador de módulo para aplicar el valor de la derecha a la variable|  `x %= 2` |`x =  x % 2` |\n",
    "| `**=`  |Apliqua el operador potencia para aumentar el valor de la variable por el valor suministrado|  `x **= 3` |`x =  x **2` |"
   ]
  },
  {
   "cell_type": "markdown",
   "metadata": {},
   "source": [
    "## 10. Valor `None` \n",
    "\n",
    "Python tiene un tipo especial, NoneType, con un solo valor, `None`.\n",
    "Esto se usa para representar valores nulos o nada.\n",
    "No es lo mismo que `False`, o una cadena vacía o $0$; Es un *no-valor*. Puede ser\n",
    "se usa cuando necesita crear una variable pero no tiene un valor inicial para ella. Por ejemplo:"
   ]
  },
  {
   "cell_type": "code",
   "execution_count": null,
   "metadata": {},
   "outputs": [],
   "source": [
    "winner = None"
   ]
  },
  {
   "cell_type": "markdown",
   "metadata": {},
   "source": [
    "Se puede probar la presencia de `None` usando `is` y `is not`, por ejemplo:"
   ]
  },
  {
   "cell_type": "code",
   "execution_count": null,
   "metadata": {},
   "outputs": [],
   "source": [
    "print(winner is None)"
   ]
  },
  {
   "cell_type": "code",
   "execution_count": null,
   "metadata": {},
   "outputs": [],
   "source": [
    "print(winner is not None)"
   ]
  },
  {
   "cell_type": "code",
   "execution_count": null,
   "metadata": {},
   "outputs": [],
   "source": []
  },
  {
   "cell_type": "markdown",
   "metadata": {},
   "source": [
    "Antes de explorar el condicional `if` necesitamos discutir *operadores de comparación*. Estos son operadores que devuelven valores booleanos. Son clave para los elementos condicionales de las declaraciones de flujo de control, tal como `if`.\n",
    "Un operador de comparación es un operador que realiza una prueba y devuelve un `True` o un `False`.\n",
    "\n",
    "Estos son operadores que usamos en la vida cotidiana todo el tiempo. Por ejemplo, ¿tengo suficiente dinero para comprar el almuerzo o es este zapato de mi talla, etc.\n",
    "\n",
    "En Python hay una gama de operadores de comparación representados típicamente por uno o dos caracteres. Estos son:\n",
    "\n",
    "|Operador|                      Descripción                  |  Ejemplo |\n",
    "|--------|---------------------------------------------------|----------|\n",
    "|  `==`  |Comprueba si dos valores son iguales| `x == 2` |\n",
    "|  `!=`  |Comprueba que dos valores no son iguales entre sí|`2 != 3` |\n",
    "|   `<`  |Comprueba si el valor de la izquierda es menor que el valor de la derecha|`2 <  3` |\n",
    "|   `>`  |Comprueba si el valor de la izquierda es mayor que el valor de la derecha|`3 >  2` |\n",
    "|  `<=`  |Comprueba si el valor de la izquierda es menor o igual que el valor de la derecha|`3 <=  4` |\n",
    "|  `>=`  |Comprueba si el valor de la izquierda es mayor o igual que el valor de la derecha|`5 >=  4` |"
   ]
  },
  {
   "cell_type": "code",
   "execution_count": null,
   "metadata": {},
   "outputs": [],
   "source": []
  },
  {
   "cell_type": "markdown",
   "metadata": {},
   "source": [
    "## 11. Operadores logicos\n",
    "\n",
    "Además de los operadores de comparación, Python también tiene operadores lógicos.\n",
    "Los operadores lógicos se pueden usar para combinar expresiones booleanas juntas. Típicamente, se usan con operadores de comparación para crear condiciones más complejas. Nuevamente, los usamos todos los días, por ejemplo, podríamos considerar si\n",
    "puede permitirse un helado y si cenaremos pronto, etc. Hay tres operadores lógicos en Python que se enumeran a continuación:\n",
    "\n",
    "|Operador|                      Descripción                  |  Ejemplo |\n",
    "|--------|---------------------------------------------------|----------|\n",
    "|  `and` |Devuelve `True` si tanto el lado izquierdo como la derecha son verdaderos|`(3 < 4) and (5 > 3)` |\n",
    "|  `or`  |Devuelve `True` si la izquierda o la derecha es una cierta.              |`(3 < 4) or (3 > 4)` |\n",
    "|  `not` |Devuelve `True` si el valor que se prueba es Falso|`not 3 <  2` |"
   ]
  },
  {
   "cell_type": "code",
   "execution_count": null,
   "metadata": {},
   "outputs": [],
   "source": [
    "(not 3 < 4) and (5 > 3)"
   ]
  },
  {
   "cell_type": "markdown",
   "metadata": {},
   "source": [
    "## 12. La declaración `If` \n",
    "\n",
    "Una declaración `if` se usa como una forma de programación condicional; algo que probablemente haces todos los días en el mundo real. Es decir, debe decidir si va a tomar un té o un café o si va a comer tostadas o un panecillo en el desayuno, etc. En cada uno de estos casos está haciendo una elección, generalmente basada en alguna información como yo tomé café ayer, así que tomaré té hoy.\n",
    "\n",
    "En Python, tales elecciones están representadas programáticamente por la instrucción `if` condition.\n",
    "\n",
    "En esta construcción, si alguna condición es verdadera, se realiza alguna acción, opcionalmente si no es cierta, se puede realizar otra acción en su lugar."
   ]
  },
  {
   "cell_type": "markdown",
   "metadata": {},
   "source": [
    "### 12.1. Trabajando con una declaración `If`\n",
    "\n",
    "En su forma más básica, la instrucción `if` es:\n",
    "\n",
    "```python\n",
    "if <condition-evaluating-to-boolean>:\n",
    "    statement```\n",
    "\n",
    "Tenga en cuenta que la condición debe evaluarse como `True` o `False`. Si la condición es `True`, ejecutaremos la declaración con sangría.\n",
    "\n",
    "**Tenga en cuenta que la sangría, esto es muy importante en Python; de hecho, el diseño del código es muy, muy importante en Python. La sangría se usa para determinar cómo se debe asociar una parte del código con otra parte del código.**\n",
    "Veamos un ejemplo simple,"
   ]
  },
  {
   "cell_type": "code",
   "execution_count": null,
   "metadata": {},
   "outputs": [],
   "source": [
    "x = 22\n",
    "\n",
    "if x < 2:\n",
    "    print(\"True\")"
   ]
  },
  {
   "cell_type": "code",
   "execution_count": null,
   "metadata": {},
   "outputs": [],
   "source": [
    "num = int(input('Enter a number: ')) \n",
    "if num < 0:\n",
    "    print(num, 'is negative')"
   ]
  },
  {
   "cell_type": "code",
   "execution_count": null,
   "metadata": {},
   "outputs": [],
   "source": [
    "num = int(input('Enter another number: '))\n",
    "if num > 0:\n",
    "    print(num, 'is positive') \n",
    "    print(num, 'squared is ', num * num)\n",
    "print('Bye')"
   ]
  },
  {
   "cell_type": "markdown",
   "metadata": {},
   "source": [
    "### 12.2. Condicional `if` y `else` \n",
    "\n",
    "También podemos definir un `else` además de la declaración `if`; Este es un elemento opcional que se puede ejecutar si la parte condicional de la instrucción `if` devuelve `False`. Por ejemplo:"
   ]
  },
  {
   "cell_type": "code",
   "execution_count": null,
   "metadata": {},
   "outputs": [],
   "source": [
    "num = int(input('Enter yet another number: ')) \n",
    "if num < 0:\n",
    "    print('Its negative')\n",
    "else:\n",
    "    print('Its not negative')"
   ]
  },
  {
   "cell_type": "markdown",
   "metadata": {},
   "source": [
    "Cuando se ejecuta este código, si el número ingresado es menor que cero, se ejecutará la primera instrucción `print()`; de lo contrario, se ejecutará la segunda instrucción `print()`. Sin embargo, tenemos la garantía de que al menos una (y como máximo una) de las declaraciones `print()` se ejecutará."
   ]
  },
  {
   "cell_type": "markdown",
   "metadata": {},
   "source": [
    "### 12.3. El uso del `elif` \n",
    "\n",
    "En algunos casos, puede haber varias condiciones que desea probar, y cada condición se prueba si la anterior falló. Este escenario *else-if* es soportado en Python por el elemento `elif` de una declaración `if`.\n",
    "\n",
    "La declaración `elif` de una instrucción `if` sigue después de un `if` y viene antes de cualquier (opcional) `else` otra parte. Tiene el formato:\n",
    "\n",
    "```python\n",
    "elif <condition-evaluating-to-boolean>:\n",
    "    statement```"
   ]
  },
  {
   "cell_type": "code",
   "execution_count": null,
   "metadata": {},
   "outputs": [],
   "source": [
    "num = int(input('Enter yet another number: '))\n",
    "\n",
    "if num > 0:\n",
    "    print('Its positive')\n",
    "elif num  < 0:\n",
    "    print('Its Negative')\n",
    "else:\n",
    "    print('Its Zero')"
   ]
  },
  {
   "cell_type": "code",
   "execution_count": null,
   "metadata": {},
   "outputs": [],
   "source": [
    "savings = float(input(\"Enter how much you have in savings: \")) \n",
    "if savings == 0:\n",
    "    print(\"Sorry no savings\")\n",
    "elif savings < 500:\n",
    "    print('Well done') \n",
    "elif savings < 1000:\n",
    "    print('Thats a tidy sum')\n",
    "elif savings < 10000:\n",
    "    print('Welcome Sir!')\n",
    "else:\n",
    "    print('Thank you')"
   ]
  },
  {
   "cell_type": "markdown",
   "metadata": {},
   "source": [
    "### 12.4. Declaraciones `if` anidadas\n",
    "\n",
    "Es posible anidar una declaración `if` dentro de otra. Este término anidamiento indica que una declaración `if` se encuentra dentro de una parte de la declaración `if` y se puede usar para refinar el comportamiento condicional del programa."
   ]
  },
  {
   "cell_type": "code",
   "execution_count": null,
   "metadata": {},
   "outputs": [],
   "source": [
    "snowing = False\n",
    "temp = -1\n",
    "if temp < 0:\n",
    "    print('It is freezing') \n",
    "    if snowing:\n",
    "        print('Put on boots') \n",
    "    print('Time for Hot Chocolate')\n",
    "print('Bye')"
   ]
  },
  {
   "cell_type": "markdown",
   "metadata": {},
   "source": [
    "En este ejemplo, si la temperatura es inferior a cero, ingresaremos al bloque del `if`. Si no es menor que cero, omitiremos la declaración `if` completa y saltaremos a la declaración `print('Bye')` que está después de las dos declaraciones `if`.\n"
   ]
  },
  {
   "cell_type": "markdown",
   "metadata": {},
   "source": [
    "## 13. Ciclo While \n",
    "\n",
    "\n",
    "El ciclo `while` existe en casi todos los lenguajes de programación y se utiliza para iterar (o repetir) una o más instrucciones de código siempre que la condición de prueba (expresión) sea verdadera (`True`). Esta construcción de iteración generalmente se usa cuando no se conoce el número de veces que necesitamos repetir el bloque de código para ejecutar. Por ejemplo, puede necesitar repetir hasta que se encuentre alguna solución o el usuario ingrese un valor particular.\n",
    "\n",
    "\n",
    "<img src = \"Images/while.png\"  width=\"900\" height=\"300\"/>"
   ]
  },
  {
   "cell_type": "markdown",
   "metadata": {},
   "source": [
    "En Python el ciclo `while` tiene la siguiente forma:\n",
    "\n",
    "```python\n",
    "while <test-condition-is-true>: \n",
    "    statement or statements```\n",
    "    \n",
    "    \n",
    "Lo siguiente ilustra un ejemplo del bucle while en Python:"
   ]
  },
  {
   "cell_type": "code",
   "execution_count": null,
   "metadata": {},
   "outputs": [],
   "source": [
    "count = 0\n",
    "print('Starting') \n",
    "while count < 10:\n",
    "    print(count, ' ', end='') # part of the while loop\n",
    "    count += 1 # also part of the while loop \n",
    "print() # not part of the while loop\n",
    "print('Done')"
   ]
  },
  {
   "cell_type": "markdown",
   "metadata": {},
   "source": [
    "## 14. Ciclo `for`\n",
    "\n",
    "En muchos casos, sabemos cuántas veces queremos iterar sobre una o más declaraciones (como lo hicimos en la sección anterior). Aunque el ciclo `while` puede usarse para tales situaciones, el ciclo `for` es una forma mucho más concisa de hacer esto. Por lo general, también es más claro para algunos programadores que el ciclo debe iterar durante un número específico de iteraciones.\n",
    "\n",
    "\n",
    "El ciclo `for` se usa para pasar una variable a través de una serie de valores hasta que se cumple una prueba determinada. El comportamiento del bucle for se ilustra a continuación.\n",
    "\n",
    "<img src = \"Images/for.png\"  width=\"500\" height=\"300\"/>"
   ]
  },
  {
   "cell_type": "markdown",
   "metadata": {},
   "source": [
    "El ciclo `for` tiene la siguiente forma:\n",
    "\n",
    "```python\n",
    "for <variable-name> in range(...):\n",
    "    statement\n",
    "    statement```"
   ]
  },
  {
   "cell_type": "code",
   "execution_count": null,
   "metadata": {},
   "outputs": [],
   "source": [
    "# Loop over a set of values in a range \n",
    "print('Print out values in a range') \n",
    "for i in range(0, 10):\n",
    "    print(i, ' ', end='') \n",
    "print()\n",
    "print('Done')\n"
   ]
  },
  {
   "cell_type": "markdown",
   "metadata": {},
   "source": [
    "Como se puede ver en lo anterior; El resultado final es que hemos generado un ciclo `for` que produce el mismo conjunto de valores que el ciclo `while` anterior. Sin embargo,\n",
    "\n",
    "* El código es más conciso.\n",
    "* Es claro que estamos procesando un rango de valores de 0 a 9 (tenga en cuenta que depende del valor final, pero no lo incluye).\n",
    "* No necesitamos definir primero la variable de bucle.\n",
    "\n",
    "\n",
    "Por estas razones, éstos ciclos son más comunes en los programas en general que los bucles `while`."
   ]
  },
  {
   "cell_type": "markdown",
   "metadata": {},
   "source": [
    "Sin embargo, una cosa que puede notar es que en el ciclo while no estamos obligados a incrementar la variable de conteo en uno. Por ejemplo, podríamos haber decidido incrementar el conteo en 2 cada vez que se completa el ciclo (una idea muy común). De hecho, la función `range` nos permite hacer exactamente esto; Un tercer argumento que se puede proporcionar a la función de `range` es el valor para incrementar la variable del ciclo cada vez que se redondea, por ejemplo:"
   ]
  },
  {
   "cell_type": "code",
   "execution_count": null,
   "metadata": {},
   "outputs": [],
   "source": [
    "# Now use values in a range but increment by 2 \n",
    "print('Print out values in a range with an increment of 2') \n",
    "for i in range(0, 10, 2):\n",
    "    print(i, ' ', end='') \n",
    "print()\n",
    "print('Done')"
   ]
  },
  {
   "cell_type": "markdown",
   "metadata": {},
   "source": [
    "Una variación interesante del ciclo `for` es el uso del comodín `_` en lugar de una variable de bucle; Esto puede ser útil si solo está interesado en hacer un bucle un cierto número de veces y no en el valor del contador del bucle, por ejemplo:"
   ]
  },
  {
   "cell_type": "code",
   "execution_count": null,
   "metadata": {},
   "outputs": [],
   "source": [
    "# Now use an 'anonymous' loop variable\n",
    "for _ in range(0,10):\n",
    "    print('.', end='')\n",
    "print()"
   ]
  },
  {
   "cell_type": "markdown",
   "metadata": {},
   "source": [
    "## 15. Declaración `break` de bucle"
   ]
  },
  {
   "cell_type": "markdown",
   "metadata": {},
   "source": [
    "Python permite decidir si se quiere salir de un ciclo  o no (si estamos usando un ciclo for o un ciclo while). Esto se hace usando la instrucción `break`.\n",
    "\n",
    "La declaración `break` permite a un desarrollador alterar el ciclo normal del ciclo en función de algunos criterios que pueden no ser predecibles de antemano (por ejemplo, puede basarse en alguna entrada del usuario).\n",
    "\n",
    "La instrucción `break`, cuando se ejecuta, terminará el ciclo actual y saltará el programa a la primera línea después del ciclo. El siguiente diagrama muestra cómo funciona esto para un ciclo `for`:\n",
    "\n",
    "\n",
    "<img src = \"Images/break.png\"  width=\"500\" height=\"300\"/>"
   ]
  },
  {
   "cell_type": "markdown",
   "metadata": {},
   "source": [
    "Una aplicación de esto es:"
   ]
  },
  {
   "cell_type": "code",
   "execution_count": null,
   "metadata": {},
   "outputs": [],
   "source": [
    "print('Only print code if all iterations completed') \n",
    "num = int(input('Enter a number to check for: ')) \n",
    "for i in range(0, 6):\n",
    "    if i == num: \n",
    "        break\n",
    "    print(i, ' ', end='') \n",
    "print('Done')"
   ]
  },
  {
   "cell_type": "markdown",
   "metadata": {},
   "source": [
    "Tenga en cuenta que la declaración `break` puede estar en cualquier lugar dentro del bloque de código asociado con la construcción del bucle (ya sea un bucle `for` o un bucle `while`). Esto significa que puede haber declaraciones antes y después.\n"
   ]
  },
  {
   "cell_type": "markdown",
   "metadata": {},
   "source": [
    "## 16. Declaración `continue` de bucle"
   ]
  },
  {
   "cell_type": "markdown",
   "metadata": {},
   "source": [
    "La declaración `continue` también afecta el flujo de control dentro de las construcciones de un ciclo `for` y `while`. Sin embargo, no termina todo el ciclo; más bien solo termina la iteración actual alrededor del ciclo. Esto le permite omitir parte de la iteración de un ciclo para un valor particular, pero luego continuar con los valores restantes en la secuencia.\n",
    "\n",
    "\n",
    "<img src = \"Images/continue.png\"  width=\"500\" height=\"300\"/>"
   ]
  },
  {
   "cell_type": "code",
   "execution_count": null,
   "metadata": {},
   "outputs": [],
   "source": [
    "for i in range(0, 10): \n",
    "    print(i, ' ', end='') \n",
    "    if i % 2 == 1:\n",
    "        continue\n",
    "    print('hey its an even number') \n",
    "    print('we love even numbers')\n",
    "print('Done')\n"
   ]
  },
  {
   "cell_type": "markdown",
   "metadata": {},
   "source": [
    "# 17. Ejercicios en clase"
   ]
  },
  {
   "cell_type": "markdown",
   "metadata": {},
   "source": [
    "Escribir ciclos que:\n",
    "\n",
    "* Genere todos los enteros entre $0$ y $n$\n",
    "* Calcule la suma de los primero $n$ naturales, sin usar la fórmula de Gauss\n",
    "* Evalué si un numero es primo\n",
    "* Deternime todos los primos previos a $n$\n",
    "* Cálcule el factorila de $n$\n",
    "* Encuentre los números de la serie de fibonacci previos a $n$\n"
   ]
  },
  {
   "cell_type": "markdown",
   "metadata": {},
   "source": [
    "# 18. Bibliografía"
   ]
  },
  {
   "cell_type": "markdown",
   "metadata": {},
   "source": [
    "* 1. Wei-Bing Lin, J., 2012. A Hands-On Introduction to Using Python in the Atmospheric and Oceanic Sciences. 1st ed. [ebook] lulu, pp.1 to 209. Available at: <https://www.lulu.com/commerce/index.php?fBuyContent=13110573&page=1&pageSize=4> [Accessed 19 May 2021].\n",
    "* 2. Langtangen, H., 2009. A Primer on Scientific Programming with Python. Leipzig, Germany: Springer, p.all.\n",
    "* 3. Heath, M., 2009. Scientific computing. 1st ed. Boston, Mass: McGraw Hill, p.all.\n",
    "* 4. Johansson, R., n.d. Numerical python. 2nd ed. New York: Springer, p.all.\n",
    "* 5. Hunt, J., 2019. A Begginers Guide to Python 3 Programming. 1st ed. Cham, Suiza: Springer, p.all."
   ]
  },
  {
   "cell_type": "code",
   "execution_count": null,
   "metadata": {},
   "outputs": [],
   "source": []
  }
 ],
 "metadata": {
  "kernelspec": {
   "display_name": "Python 3",
   "language": "python",
   "name": "python3"
  },
  "language_info": {
   "codemirror_mode": {
    "name": "ipython",
    "version": 3
   },
   "file_extension": ".py",
   "mimetype": "text/x-python",
   "name": "python",
   "nbconvert_exporter": "python",
   "pygments_lexer": "ipython3",
   "version": "3.6.9"
  }
 },
 "nbformat": 4,
 "nbformat_minor": 4
}
