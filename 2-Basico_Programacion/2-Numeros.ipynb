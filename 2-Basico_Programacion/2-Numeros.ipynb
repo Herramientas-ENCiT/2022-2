{
 "cells": [
  {
   "cell_type": "markdown",
   "metadata": {},
   "source": [
    "# Números y operaciones\n",
    "\n",
    "### Índice\n",
    "\n",
    "* [7. Números](#7.-Números)\n",
    "    * [7.1. Booleanos y operaciones de comparación](#7.1.-Booleanos-y-operaciones-de-comparación)\n",
    "        * [7.1.1. Booleanos, enteros y cadenas](#7.1.1.-Booleanos,-enteros-y-cadenas)\n",
    "        * [7.1.2. Operadores lógicos](#7.1.2.-Operadores-lógicos)\n",
    "    * [7.2. Operadores aritméticos](#7.2.-Operadores-aritméticos)\n",
    "    * [7.3. Números enteros](#7.3.-Números-enteros)\n",
    "        * [7.3.1. Operaciones aritméticas con enteros](#7.3.1.-Operaciones-aritméticas-con-enteros)\n",
    "        * [7.3.2. Almacenamiento de memoria y los enteros](#7.3.2.-Almacenamiento-de-memoria-y-los-enteros)\n",
    "    * [7.4. Números reales y complejos](#7.4.-Números-reales-y-complejos)\n",
    "        * [7.4.1. Aritmética de punto flotante](#7.4.1.-Aritmética-de-punt-flotante)\n",
    "* [8. Operadores de asignación](#8.-Operadores-de-asignación)\n",
    "* [9. Valor None](#9.-Valore-`None`)\n",
    "\n",
    "* [Bibliografia](#Bibliografia)"
   ]
  },
  {
   "cell_type": "markdown",
   "metadata": {
    "tags": []
   },
   "source": [
    "# 7. Números "
   ]
  },
  {
   "cell_type": "markdown",
   "metadata": {},
   "source": [
    "En esta sección exploraremos las diferentes formas en que los números pueden ser representados en Python, donde por default hay cuatro tipos de ellos:\n",
    "\n",
    "|Conjunto matemático | Nombre           | Tipo    |\n",
    "|:------------------:|:----------------:|:-------:|\n",
    "| $ \\{ 0, 1 \\} $     |   Booleanos      |   bool  |\n",
    "| $ \\sim \\mathbb{Z}$ |   Enteros        |  int    |\n",
    "| $ \\sim \\mathbb{R}$ |   Punto flotante | float   |\n",
    "| $ \\sim \\mathbb{C}$ |  \"Complejos\"     | complex |\n",
    "\n",
    "Adicional a los números, en Python se tiene una variable \"Sin tipo\" denominada con `None`, la cual no regresa un valor numérico, sino otra cosa, cuyo tipos es `NoneType`. Cada tipo de variables numéricas opera bajo su propia aritmética por lo que estudiaremos los distintos operadores que se pueden aplicar a cada uno de ellos."
   ]
  },
  {
   "cell_type": "markdown",
   "metadata": {
    "tags": []
   },
   "source": [
    "## 7.1. Booleanos y operaciones de comparación"
   ]
  },
  {
   "cell_type": "markdown",
   "metadata": {},
   "source": [
    "Los números booleanos son, en ralidad, cualquier conjunto de dos elementos con los que podemos definir un álgebra. Lo usual es que se representen matemáticamente con ceros y unos, y de hecho, así es como los trabaja Python y su uso es para realizar operaciones lógicas con un formalismo algebráico. Por lo tanto, en Python los valores booleanos los representamos como sigue:\n",
    "```` python \n",
    "var_1 = True\n",
    "var_2 = False\n",
    "````\n",
    "Dado que deseamos hacer operaciones lógicas, lo más común no es asignar directamente el valor a una variable, sino que sean el resultado de una comparación entre dos variables. Para esto es necesario que conozcamos a los operadores lógicos, que se muestran a continuación\n",
    "\n",
    "|Operador|                      Descripción                  |  Ejemplo |\n",
    "|:------:|---------------------------------------------------|:--------:|\n",
    "|  `==`  |Comprueba si dos valores son iguales| `x == 2` |\n",
    "|  `!=`  |Comprueba que dos valores no son iguales entre sí|`2 != 3` |\n",
    "|   `<`  |Comprueba si el valor de la izquierda es menor que el valor de la derecha|`2 <  3` |\n",
    "|   `>`  |Comprueba si el valor de la izquierda es mayor que el valor de la derecha|`3 >  2` |\n",
    "|  `<=`  |Comprueba si el valor de la izquierda es menor o igual que el valor de la derecha|`3 <=  4` |\n",
    "|  `>=`  |Comprueba si el valor de la izquierda es mayor o igual que el valor de la derecha|`5 >=  4` |\n",
    "\n",
    "Un error común en muchos programadores es el confundir el operador lógico igual `==` con el operador de asignación `=`, por lo que deben de recorder que `==` hace una comparación mientras que `=` guarda un valor a una variable.\n",
    "\n",
    "En las siguientes líneas veremos formas alternativas en las que valores booleanos pueden intriducirse en nuestro código."
   ]
  },
  {
   "cell_type": "code",
   "execution_count": 21,
   "metadata": {},
   "outputs": [
    {
     "name": "stdout",
     "output_type": "stream",
     "text": [
      "<class 'bool'> False\n"
     ]
    }
   ],
   "source": [
    "# Asignamos dos valores distintos\n",
    "x = 8\n",
    "y = 10\n",
    "\n",
    "# Nos preguntamos si las dos variables son iguales, la respuesta es que no, por lo que var_1 será igual a False\n",
    "var_1 = x == y\n",
    "\n",
    "# Aquí vemos qué tipo es nuestra variable var_1 y su valor, que coincide con lo que mencionamos anteriormente.\n",
    "print(type(var_1), var_1)"
   ]
  },
  {
   "cell_type": "markdown",
   "metadata": {},
   "source": [
    "### 7.1.1. Booleanos, enteros y cadenas"
   ]
  },
  {
   "cell_type": "markdown",
   "metadata": {},
   "source": [
    "Mencionamos con anterioridad que los números booleanos son un conjunto con dos elementos y que lo usual es representarlos con ceros y unos. Esto quiere decir que el tipo booleano es en realidad un subtipo (y subconjuntos) de entero (pero solo con los valores Verdadero y Falso), por lo que es fácil de traducir entre los dos utilizando las funciones `int()` y `bool()` para convertir de booleanos a enteros y viceversa. Por ejemplo:"
   ]
  },
  {
   "cell_type": "code",
   "execution_count": 22,
   "metadata": {},
   "outputs": [
    {
     "name": "stdout",
     "output_type": "stream",
     "text": [
      "Convertir enteros a boleanos,  True\n",
      "Convertir enteros a boleanos,  False\n",
      "Convertir boleanos a enteros,  1\n",
      "Convertir boleanos a enteros,  0\n"
     ]
    }
   ],
   "source": [
    "print('Convertir enteros a boleanos, ', bool(1)) \n",
    "print('Convertir enteros a boleanos, ', bool(0)) \n",
    "print('Convertir boleanos a enteros, ', int(True) )\n",
    "print('Convertir boleanos a enteros, ', int(False))"
   ]
  },
  {
   "cell_type": "markdown",
   "metadata": {},
   "source": [
    "Una cadena también puede convertirse en booleano con `bool()` sin embargo no es recomendable porque todas las cadenas serán `True` a menos que sean cadenas vacías"
   ]
  },
  {
   "cell_type": "code",
   "execution_count": 23,
   "metadata": {},
   "outputs": [
    {
     "name": "stdout",
     "output_type": "stream",
     "text": [
      "bool(cualquier cosa) =  True  y es <class 'bool'>\n",
      "bool() =  False  y es <class 'bool'>\n"
     ]
    }
   ],
   "source": [
    "true_string = 'cualquier cosa'\n",
    "print('bool(' + true_string +') = ', bool(true_string), ' y es', type(bool(true_string)))\n",
    "\n",
    "true_string = ''\n",
    "print('bool(' + true_string +') = ', bool(true_string), ' y es', type(bool(true_string)))"
   ]
  },
  {
   "cell_type": "markdown",
   "metadata": {
    "tags": []
   },
   "source": [
    "### 7.1.2. Operadores logicos\n",
    "\n",
    "Además de los operadores de comparación, Python también tiene operadores lógicos.\n",
    "Los operadores lógicos se pueden usar para combinar expresiones booleanas juntas. Típicamente, se usan con operadores de comparación para crear condiciones más complejas. En la cotidianidad, los usamos todos los días, por ejemplo, podríamos considerar si\n",
    "puede permitirse un helado y si cenaremos pronto, etc. Hay tres operadores lógicos en Python que se enumeran a continuación:\n",
    "\n",
    "|Operador|                      Descripción                  |  Ejemplo |\n",
    "|--------|---------------------------------------------------|----------|\n",
    "|  `and` |Devuelve `True` si tanto el lado izquierdo como la derecha son verdaderos|`(3 < 4) and (5 > 3)` |\n",
    "|  `or`  |Devuelve `True` si la izquierda o la derecha es una cierta.              |`(3 < 4) or (3 > 4)` |\n",
    "|  `not` |Devuelve `True` si el valor que se prueba es Falso|`not 3 <  2` |"
   ]
  },
  {
   "cell_type": "code",
   "execution_count": 29,
   "metadata": {},
   "outputs": [
    {
     "name": "stdout",
     "output_type": "stream",
     "text": [
      "test_1 =  False\n",
      "test_2 =  True \n",
      "\n",
      "not test_1 =  True\n",
      "test_1 and test_2 =  False\n",
      "test_1 or test_2 =  True\n",
      "not test_1 and test_2 =  True\n"
     ]
    }
   ],
   "source": [
    "# Asignamos dos valores distintos\n",
    "x = 8\n",
    "y = 10\n",
    "\n",
    "# Nos preguntamos si las dos variables son iguales, la respuesta es que no, por lo que var_1 será igual a False\n",
    "test_1 = x == y\n",
    "test_2 = x < y\n",
    "\n",
    "print('test_1 = ', test_1)\n",
    "print('test_2 = ', test_2, '\\n')\n",
    "\n",
    "print('not test_1 = ', not test_1)\n",
    "print('test_1 and test_2 = ', test_1 and test_2)\n",
    "print('test_1 or test_2 = ', test_1 or test_2)\n",
    "print('not test_1 and test_2 = ', not test_1 and test_2)"
   ]
  },
  {
   "cell_type": "markdown",
   "metadata": {
    "tags": []
   },
   "source": [
    "## 7.2. Operadores aritméticos"
   ]
  },
  {
   "cell_type": "markdown",
   "metadata": {},
   "source": [
    "Los operadores aritméticos se utilizan para realizar alguna operación matemática, como la suma, la resta, la multiplicación y la división, etc. En Python están representados por uno o dos caracteres. La siguiente tabla resume los operadores aritméticos de Python:\n",
    "\n",
    "| Operador  |    Descripción   |  Ejemplo |\n",
    "|-----------|------------------|----------|\n",
    "|     +     |    Suma          |  `1 + 2` |\n",
    "|     -     |    Resta         |  `3 - 2` |\n",
    "|     *     |    Multiplicación|  `3 * 4` |\n",
    "|     /     |    División      |  `12 / 3` |\n",
    "|    //     |    División Entera     |  `12 // 3` |\n",
    "|     %     |    Módulo              |  `13 % 3`  |\n",
    "|    **     |    Potenica            |  `3 ** 3`  |\n",
    "\n",
    "A excepción del operador de potencia, y la división entera,  los demás símbolos son estándares para la **operación binaria** que realizan. En otros lenguajes, la potencia se describe con el símbolo `^`, y en otros no existe, como en C cuya notación es `pow(a, x)`.\n",
    "\n",
    "Para comprender cpomo operar con estos símbolos, comencemos estiando a los número enteros en Pyhton."
   ]
  },
  {
   "cell_type": "markdown",
   "metadata": {
    "tags": []
   },
   "source": [
    "## 7.3. Números enteros"
   ]
  },
  {
   "cell_type": "markdown",
   "metadata": {},
   "source": [
    "Los valores enteros se representan en Python escribiéndolos directamente con el teclado **sin agregar ningún punto decimal, aunque sea XXX.0**, dado que eso representa a un número flotante. El tipo de los enteros es `int` y, al igual que con los booleanos, se pueden convertir cadenas de caracteres a enteros con las función  `int()` sinempre que la cadena tenga únicamente caracteres numéricos."
   ]
  },
  {
   "cell_type": "code",
   "execution_count": 5,
   "metadata": {},
   "outputs": [
    {
     "name": "stdout",
     "output_type": "stream",
     "text": [
      "0  -->  <class 'int'>\n",
      "5684518651  -->  <class 'int'>\n",
      "5684518651  -->  <class 'int'>\n",
      "5684518651  -->  <class 'int'>\n"
     ]
    }
   ],
   "source": [
    "x = 0\n",
    "print(x, ' --> ', type(x))\n",
    "\n",
    "x = 5684518651\n",
    "print(x, ' --> ', type(x))\n",
    "\n",
    "# Para enteros de varias cifras la siguiente notación resula muy cómoda para enteros, que nos permite dividir en potencias de 10^3\n",
    "x = 5_684_518_651\n",
    "print(x, ' --> ', type(x))\n",
    "\n",
    "# Pasando de strings a int\n",
    "x = '5_684_518_651'\n",
    "x_int = int(x)                   \n",
    "print(x_int, ' --> ', type(x_int))\n"
   ]
  },
  {
   "cell_type": "markdown",
   "metadata": {},
   "source": [
    "La función `int()` a es especialmente útil en conjunto con `input()` pues ésta da una variable tipo cadena, pero la podemos convertir directamente a un número:"
   ]
  },
  {
   "cell_type": "code",
   "execution_count": 6,
   "metadata": {},
   "outputs": [
    {
     "name": "stdin",
     "output_type": "stream",
     "text": [
      "Dame tu edad: 87\n"
     ]
    },
    {
     "name": "stdout",
     "output_type": "stream",
     "text": [
      "La mitad de tu vida tuviste fue cuando tenías 43 años.\n"
     ]
    }
   ],
   "source": [
    "age = input(\"Dame tu edad:\")\n",
    "age_num = int(age)\n",
    "print('La mitad de tu vida tuviste fue cuando tenías', int(age) // 2, 'años.')"
   ]
  },
  {
   "cell_type": "markdown",
   "metadata": {},
   "source": [
    "Cabe destacar que empleamos la operación de división por entero `//` en lugar de la división simple `/` esto se debe a que cuando hablamos de edades, nunca nos referimos a medios número, sino a enteros. Para enteder por qué está definida esta operación, analicemos primero cómo  se ejecutan el resto de operaciones y después, analicemos cómo la computadora entiende a los números enteros."
   ]
  },
  {
   "cell_type": "markdown",
   "metadata": {
    "tags": []
   },
   "source": [
    "### 7.3.1. Operaciones aritméticas con enteros"
   ]
  },
  {
   "cell_type": "markdown",
   "metadata": {},
   "source": [
    "Desde un punto de vista matemático, los números enteros son cerrados para las operaciones de suma, resta y  multiplicación, por lo que cualquier operación de éstas que se ejectuen me dará como resultado otro número entero. Adicionalmente, las computadoras siguen la jerarquía de operaciones usual de matemáticas (es decir, que la multiplicación se realiza antes que la suma y se calcula primero lo que está entre paréntesis)."
   ]
  },
  {
   "cell_type": "code",
   "execution_count": 7,
   "metadata": {},
   "outputs": [
    {
     "name": "stdout",
     "output_type": "stream",
     "text": [
      "a + b =  103  y es tipo --->  <class 'int'>\n",
      "a - b =  93  y es tipo --->  <class 'int'>\n",
      "a * c =  82614  y es tipo --->  <class 'int'>\n",
      "a * (b - c) =  -82124  y es tipo --->  <class 'int'>\n",
      "a ** b =  9039207968  y es tipo --->  <class 'int'>\n"
     ]
    }
   ],
   "source": [
    "a = 98\n",
    "b = 5\n",
    "c = 843\n",
    "\n",
    "ans = a + b\n",
    "print('a + b = ', ans, ' y es tipo ---> ', type(ans) )\n",
    "\n",
    "ans = a - b\n",
    "print('a - b = ', ans, ' y es tipo ---> ', type(ans) )\n",
    "\n",
    "ans = a * c\n",
    "print('a * c = ', ans, ' y es tipo ---> ', type(ans) )\n",
    "\n",
    "ans = a * (b - c) \n",
    "print('a * (b - c) = ', ans, ' y es tipo ---> ', type(ans) )\n",
    "\n",
    "ans = a ** b                  # En el caso en el que b >= 0, la potencia es otra forma de escribir una multiplicación por lo que siguie siendo una operación cerrada para este caso\n",
    "print('a ** b = ', ans, ' y es tipo ---> ', type(ans) )"
   ]
  },
  {
   "cell_type": "markdown",
   "metadata": {},
   "source": [
    "Las operaciones de división `/`,  división entera `//` y módulo `%`están relacionadas entre sí y tienen que ver con la no-cerradura de los enteros con esta operación. Tomemos el caso de tres números, donde el primero es divisible entre el segundo pero no entre el tercero y veamos cómo se realizan las operaciones:"
   ]
  },
  {
   "cell_type": "code",
   "execution_count": 8,
   "metadata": {},
   "outputs": [
    {
     "name": "stdout",
     "output_type": "stream",
     "text": [
      "a / b =  9.0  y es tipo --->  <class 'float'>\n",
      "a // b =  9  y es tipo --->  <class 'int'>\n",
      "a % b =  0  y es tipo --->  <class 'int'>\n",
      "\n",
      "a / c =  6.75  y es tipo --->  <class 'float'>\n",
      "a // c =  6  y es tipo --->  <class 'int'>\n",
      "a % c =  3  y es tipo --->  <class 'int'>\n"
     ]
    }
   ],
   "source": [
    "a = 27\n",
    "b = 3\n",
    "c = 4\n",
    "\n",
    "ans = a / b   # A pesar de que 27 / 3 = 9, que es un número entero, la división `/`arroja un resultado flotante (9.0). Como veremos más adeltante eso tiene consecuencias en el uso de memoria\n",
    "print('a / b = ', ans, ' y es tipo ---> ', type(ans) )\n",
    "\n",
    "ans = a // b  # Si en cambio utilizo la división entera, me da el mismo resultado pero ahora sí obtenemos un número entero como resultado: 9\n",
    "print('a // b = ', ans, ' y es tipo ---> ', type(ans) )\n",
    "\n",
    "ans = a % b   # La operación módulo siempre regresa un entero, dado que nos calcula el residup de la división a / b, como 27 sí es divisible entre 3, sobran cero\n",
    "print('a % b = ', ans, ' y es tipo ---> ', type(ans) )\n",
    "\n",
    "\n",
    "\n",
    "ans = a / c   # En este caso, 27 no es divisible entre 4, por lo que el uso de la división con sus decimales es correcto (un flotante, pues)\n",
    "print('\\na / c = ', ans, ' y es tipo ---> ', type(ans) )\n",
    "\n",
    "ans = a // c   # Y con el operador de divsión entera lo que obtenemos es un entero... lo que es  incorrecto matemáticamente pues ignora a los decimales, de hecho se observa que sólo \n",
    "               # se queda la parte entera de la operación (ni siquiera hace un redonde)\n",
    "print('a // c = ', ans, ' y es tipo ---> ', type(ans) )\n",
    "\n",
    "ans = a % c   # En este caso, el .75, corresponde a 3/4, que es el cociente entre el residuo y el divisor, por lo tanto el módulo de a y c es 3\n",
    "print('a % c = ', ans, ' y es tipo ---> ', type(ans) )"
   ]
  },
  {
   "cell_type": "markdown",
   "metadata": {},
   "source": [
    "A modo de resumen podemos decir que, en enteros las operaciones matemáticas, a excepción de la división, son cerradas y como se realizan *a mano*. Para la divsión, el operador `/` cambia el tipo de los números que se operan al de flotantes y realiza la operación usual, dando como resultado un número flotante que ocupa más espacio en la memoria. Por otro lado, el operador `//`, únicamente tomam parte entera del cociente de la división usual y regresa un número entero, el residuo de esta operación puede calcularse mediante el operador `%`, el cual siempre regresa a un entero como tipo.\n",
    "\n",
    "Antes de hablar sobre el uso de memoria en los número enteros, analicemos el siguiente meme:\n",
    "<center>\n",
    "        <img src = \"../Images/calc.jpeg\"  width=\"500\">\n",
    " </center>\n",
    " \n",
    " Lo que se muestra en patalla es algo común que ocurre al introducir operaciones matemáticas en una sola línea, cosa que también ocurre al realizar operaciones sobre el papel. No es claro, no hay una convención definitiva sobre cómo se leen las expresiones en las calculadoras, dado que las siguientes dos interpretaciones son válidas:\n",
    " \n",
    " $$ 6 / 2 (1 + 2) \\longrightarrow  \\frac{6}{2 \\,(1+2)} = 1 $$\n",
    " $$ 6 / 2 (1 + 2) \\longrightarrow  \\frac{6}{2}\\,(1 + 2) = 9 $$\n",
    " \n",
    " La primera de ellas lee la operació de izquierda a derecha, mientras que la segunda lo hace de derecha a izquierda. Recordemos que en programación esta opción no es trivial porque hemos empleado el hecho de forma implícita, que leemos de izquierda a derecha al usar el operador *set* `=`, por ejemplo en \n",
    "````python\n",
    " x = a == b\n",
    "````\n",
    "En particular Python lee las operaciones algebráicas de izquierda a derecha pero, una buena práctica es evitar este tipo de conflicto y emplear paréntesis para especificar el orden de las operaciones\n"
   ]
  },
  {
   "cell_type": "code",
   "execution_count": 9,
   "metadata": {},
   "outputs": [
    {
     "name": "stdout",
     "output_type": "stream",
     "text": [
      "9.0\n",
      "9.0\n",
      "1.0\n"
     ]
    }
   ],
   "source": [
    "print( 6 / 2 * (1 + 2) )\n",
    "print( (6 / 2) * (1 + 2) )\n",
    "print( 6 /(2 * (1 + 2)) )"
   ]
  },
  {
   "cell_type": "markdown",
   "metadata": {},
   "source": [
    "### 7.3.2. Almacenamiento de memoria y los enteros"
   ]
  },
  {
   "cell_type": "markdown",
   "metadata": {},
   "source": []
  },
  {
   "cell_type": "code",
   "execution_count": null,
   "metadata": {},
   "outputs": [],
   "source": []
  },
  {
   "cell_type": "code",
   "execution_count": null,
   "metadata": {},
   "outputs": [],
   "source": []
  },
  {
   "cell_type": "code",
   "execution_count": null,
   "metadata": {},
   "outputs": [],
   "source": []
  },
  {
   "cell_type": "markdown",
   "metadata": {
    "tags": []
   },
   "source": [
    "## 7.4. Números reales y complejos"
   ]
  },
  {
   "cell_type": "markdown",
   "metadata": {},
   "source": [
    "Los números reales, o números de punto flotante, se representan en Python usando el formato de número de punto flotante binario de doble precisión IEEE 754; en su mayor parte no necesita saber esto, pero es algo que más adelante en el curso revidsaremos con detalle.\n",
    "\n",
    "El tipo utilizado para representar un número de coma flotante se llama `float`.\n",
    "\n",
    "Python representa números de punto flotante usando un punto decimal para separar toda la parte de la parte fraccionaria del número, por ejemplo:"
   ]
  },
  {
   "cell_type": "code",
   "execution_count": 10,
   "metadata": {},
   "outputs": [
    {
     "name": "stdout",
     "output_type": "stream",
     "text": [
      "1.83\n",
      "<class 'float'>\n"
     ]
    }
   ],
   "source": [
    "exchange_rate = 1.83 \n",
    "print(exchange_rate) \n",
    "print(type(exchange_rate))"
   ]
  },
  {
   "cell_type": "markdown",
   "metadata": {},
   "source": [
    "### Convertir a números flotantes\n",
    "\n",
    "Al igual que con los enteros, es posible convertir otros tipos, como un `int` o una cadena, en un flotante. Esto se hace usando la función `float()`:"
   ]
  },
  {
   "cell_type": "code",
   "execution_count": 11,
   "metadata": {},
   "outputs": [
    {
     "name": "stdout",
     "output_type": "stream",
     "text": [
      "int value as a float: 1.0\n",
      "<class 'float'>\n",
      "string value as a float: 1.5\n",
      "<class 'float'>\n"
     ]
    }
   ],
   "source": [
    "int_value = 1\n",
    "string_value = '1.5'\n",
    "float_value = float(int_value)\n",
    "print('int value as a float:', float_value) \n",
    "print(type(float_value))\n",
    "float_value = float(string_value) \n",
    "print('string value as a float:', float_value)\n",
    "print(type(float_value))"
   ]
  },
  {
   "cell_type": "markdown",
   "metadata": {},
   "source": [
    "### Convertir una cadena de entrada en un número de punto flotante \n",
    "\n",
    "Como hemos visto, la función `input()` devuelve una cadena; ¿Qué sucede si queremos que el usuario ingrese un número de punto flotante? Como hemos visto anteriormente, una cadena se puede convertir en un número de coma flotante usando la función `float()` y, por lo tanto, podemos usar este enfoque para convertir una entrada del usuario en un flotante:"
   ]
  },
  {
   "cell_type": "code",
   "execution_count": 12,
   "metadata": {},
   "outputs": [
    {
     "name": "stdin",
     "output_type": "stream",
     "text": [
      "Please enter the exchange rate to use:  .5\n"
     ]
    },
    {
     "name": "stdout",
     "output_type": "stream",
     "text": [
      "0.5\n",
      "<class 'float'>\n"
     ]
    }
   ],
   "source": [
    "exchange_rate = float(input(\"Please enter the exchange rate to use: \"))\n",
    "print(exchange_rate)\n",
    "print(type(exchange_rate))\n"
   ]
  },
  {
   "cell_type": "markdown",
   "metadata": {},
   "source": [
    "### 7.1.3. Números complejos\n",
    "\n",
    "Los números complejos son el tercer tipo de Python de tipo numérico incorporado. Un número complejo se define por una parte real y una parte imaginaria y tiene la forma $a + i b$ (donde $i^2 = - 1$ es la parte imaginaria, $a$ y $b$ son números reales):"
   ]
  },
  {
   "cell_type": "code",
   "execution_count": 13,
   "metadata": {},
   "outputs": [],
   "source": [
    "z = 3.0 + 5.0j"
   ]
  },
  {
   "cell_type": "code",
   "execution_count": 14,
   "metadata": {},
   "outputs": [
    {
     "name": "stdout",
     "output_type": "stream",
     "text": [
      "(3+5j)\n"
     ]
    }
   ],
   "source": [
    "print(z)"
   ]
  },
  {
   "cell_type": "code",
   "execution_count": 15,
   "metadata": {},
   "outputs": [
    {
     "data": {
      "text/plain": [
       "5.0"
      ]
     },
     "execution_count": 15,
     "metadata": {},
     "output_type": "execute_result"
    }
   ],
   "source": [
    "z.imag"
   ]
  },
  {
   "cell_type": "code",
   "execution_count": 16,
   "metadata": {},
   "outputs": [
    {
     "data": {
      "text/plain": [
       "3.0"
      ]
     },
     "execution_count": 16,
     "metadata": {},
     "output_type": "execute_result"
    }
   ],
   "source": [
    "z.real"
   ]
  },
  {
   "cell_type": "code",
   "execution_count": 17,
   "metadata": {},
   "outputs": [
    {
     "name": "stdout",
     "output_type": "stream",
     "text": [
      "c1: 1j , c2: 2j\n",
      "<class 'complex'>\n",
      "0.0\n",
      "1.0\n"
     ]
    }
   ],
   "source": [
    "c1 = 1j\n",
    "c2 = 2j\n",
    "print('c1:', c1, ', c2:', c2) \n",
    "print(type(c1))\n",
    "print(c1.real)\n",
    "print(c1.imag)"
   ]
  },
  {
   "cell_type": "markdown",
   "metadata": {},
   "source": [
    "### 7.4.1. Aritmética de punto flotante"
   ]
  },
  {
   "cell_type": "code",
   "execution_count": null,
   "metadata": {},
   "outputs": [],
   "source": []
  },
  {
   "cell_type": "code",
   "execution_count": null,
   "metadata": {},
   "outputs": [],
   "source": []
  },
  {
   "cell_type": "code",
   "execution_count": null,
   "metadata": {},
   "outputs": [],
   "source": []
  },
  {
   "cell_type": "markdown",
   "metadata": {
    "tags": []
   },
   "source": [
    "# 8. Operadores de Asignación "
   ]
  },
  {
   "cell_type": "markdown",
   "metadata": {},
   "source": [
    "Anteriormente  presentamos brevemente el operador de asignación `=` que se utilizó para asignar un valor a una variable. De hecho, hay varios operadores de asignación diferentes que podrían usarse con valores numérico.\n",
    "\n",
    "En realidad, estos operadores de asignación se denominan operadores compuestos, ya que combinan una operación numérica (como sumar) con el operador de asignación. Por ejemplo, el operador compuesto `+=` es una combinación del operador *suma* y el operador `= tal que"
   ]
  },
  {
   "cell_type": "code",
   "execution_count": 18,
   "metadata": {},
   "outputs": [],
   "source": [
    "x = 0"
   ]
  },
  {
   "cell_type": "code",
   "execution_count": 19,
   "metadata": {},
   "outputs": [
    {
     "data": {
      "text/plain": [
       "0"
      ]
     },
     "execution_count": 19,
     "metadata": {},
     "output_type": "execute_result"
    }
   ],
   "source": [
    "x"
   ]
  },
  {
   "cell_type": "code",
   "execution_count": 20,
   "metadata": {},
   "outputs": [
    {
     "ename": "SyntaxError",
     "evalue": "invalid syntax (<ipython-input-20-d27d26d1856a>, line 1)",
     "output_type": "error",
     "traceback": [
      "\u001b[0;36m  File \u001b[0;32m\"<ipython-input-20-d27d26d1856a>\"\u001b[0;36m, line \u001b[0;32m1\u001b[0m\n\u001b[0;31m    x = x + 1Operaciones\u001b[0m\n\u001b[0m                       ^\u001b[0m\n\u001b[0;31mSyntaxError\u001b[0m\u001b[0;31m:\u001b[0m invalid syntax\n"
     ]
    }
   ],
   "source": [
    "x = x + 1Operaciones"
   ]
  },
  {
   "cell_type": "code",
   "execution_count": null,
   "metadata": {},
   "outputs": [],
   "source": [
    "x"
   ]
  },
  {
   "cell_type": "code",
   "execution_count": null,
   "metadata": {},
   "outputs": [],
   "source": [
    "x = 0\n",
    "x += 5 # has the same behaviour as x = x + 1"
   ]
  },
  {
   "cell_type": "code",
   "execution_count": null,
   "metadata": {},
   "outputs": [],
   "source": [
    "x"
   ]
  },
  {
   "cell_type": "code",
   "execution_count": null,
   "metadata": {},
   "outputs": [],
   "source": [
    "y = 5"
   ]
  },
  {
   "cell_type": "code",
   "execution_count": null,
   "metadata": {},
   "outputs": [],
   "source": [
    "y"
   ]
  },
  {
   "cell_type": "code",
   "execution_count": null,
   "metadata": {},
   "outputs": [],
   "source": [
    "y += 2"
   ]
  },
  {
   "cell_type": "code",
   "execution_count": null,
   "metadata": {},
   "outputs": [],
   "source": [
    "y"
   ]
  },
  {
   "cell_type": "markdown",
   "metadata": {},
   "source": [
    "La siguiente tabla proporciona una lista de los operadores compuestos disponibles.\n",
    "\n",
    "\n",
    "|Operador|                      Descripción                  |  Ejemplo | Equivalente |\n",
    "|--------|---------------------------------------------------|----------|-------------|\n",
    "|  `+=`  |   Agregue el valor a la variable de la izquierda  | `x += 2` |`x =  x + 2` |\n",
    "|  `-=`  |   Resta el valor de la variable de la izquierda   | `x -= 2` |`x =  x - 2` |\n",
    "|  `*=`  |Multiplica la variable de la izquierda por el valor| `x *= 2` |`x =  x * 2` |\n",
    "|  `/=`  |Divide el valor variable por el valor de la derecha| `x /= 2` |`x =  x / 2` |\n",
    "| `//=`  |Use la división entera para dividir el valor de la variable por el valor de la derecha|  `x //= 2` |`x = x // 2` |\n",
    "|  `%=`  |Use el operador de módulo para aplicar el valor de la derecha a la variable|  `x %= 2` |`x =  x % 2` |\n",
    "| `**=`  |Apliqua el operador potencia para aumentar el valor de la variable por el valor suministrado|  `x **= 3` |`x =  x **2` |"
   ]
  },
  {
   "cell_type": "markdown",
   "metadata": {},
   "source": [
    "# 9. Valor `None` \n",
    "\n",
    "Python tiene un tipo especial, NoneType, con un solo valor, `None`.\n",
    "Esto se usa para representar valores nulos o nada.\n",
    "No es lo mismo que `False`, o una cadena vacía o $0$; Es un *no-valor*. Puede ser\n",
    "se usa cuando necesita crear una variable pero no tiene un valor inicial para ella. Por ejemplo:"
   ]
  },
  {
   "cell_type": "code",
   "execution_count": 30,
   "metadata": {},
   "outputs": [],
   "source": [
    "winner = None"
   ]
  },
  {
   "cell_type": "markdown",
   "metadata": {},
   "source": [
    "Se puede probar la presencia de `None` usando `is` y `is not`, por ejemplo:"
   ]
  },
  {
   "cell_type": "code",
   "execution_count": 31,
   "metadata": {},
   "outputs": [
    {
     "name": "stdout",
     "output_type": "stream",
     "text": [
      "True\n"
     ]
    }
   ],
   "source": [
    "print(winner is None)"
   ]
  },
  {
   "cell_type": "code",
   "execution_count": 32,
   "metadata": {},
   "outputs": [
    {
     "name": "stdout",
     "output_type": "stream",
     "text": [
      "False\n"
     ]
    }
   ],
   "source": [
    "print(winner is not None)"
   ]
  },
  {
   "cell_type": "code",
   "execution_count": null,
   "metadata": {},
   "outputs": [],
   "source": []
  },
  {
   "cell_type": "markdown",
   "metadata": {},
   "source": [
    "Antes de explorar el condicional `if` necesitamos discutir *operadores de comparación*. Estos son operadores que devuelven valores booleanos. Son clave para los elementos condicionales de las declaraciones de flujo de control, tal como `if`.\n",
    "Un operador de comparación es un operador que realiza una prueba y devuelve un `True` o un `False`.\n",
    "\n",
    "Estos son operadores que usamos en la vida cotidiana todo el tiempo. Por ejemplo, ¿tengo suficiente dinero para comprar el almuerzo o es este zapato de mi talla, etc.\n",
    "\n",
    "En Python hay una gama de operadores de comparación representados típicamente por uno o dos caracteres. Estos son:\n",
    "\n",
    "|Operador|                      Descripción                  |  Ejemplo |\n",
    "|--------|---------------------------------------------------|----------|\n",
    "|  `==`  |Comprueba si dos valores son iguales| `x == 2` |\n",
    "|  `!=`  |Comprueba que dos valores no son iguales entre sí|`2 != 3` |\n",
    "|   `<`  |Comprueba si el valor de la izquierda es menor que el valor de la derecha|`2 <  3` |\n",
    "|   `>`  |Comprueba si el valor de la izquierda es mayor que el valor de la derecha|`3 >  2` |\n",
    "|  `<=`  |Comprueba si el valor de la izquierda es menor o igual que el valor de la derecha|`3 <=  4` |\n",
    "|  `>=`  |Comprueba si el valor de la izquierda es mayor o igual que el valor de la derecha|`5 >=  4` |"
   ]
  },
  {
   "cell_type": "code",
   "execution_count": null,
   "metadata": {},
   "outputs": [],
   "source": []
  },
  {
   "cell_type": "markdown",
   "metadata": {},
   "source": [
    "Escribir ciclos que:\n",
    "\n",
    "* Genere todos los enteros entre $0$ y $n$\n",
    "* Calcule la suma de los primero $n$ naturales, sin usar la fórmula de Gauss\n",
    "* Evalué si un numero es primo\n",
    "* Deternime todos los primos previos a $n$\n",
    "* Cálcule el factorila de $n$\n",
    "* Encuentre los números de la serie de fibonacci previos a $n$\n"
   ]
  },
  {
   "cell_type": "markdown",
   "metadata": {},
   "source": [
    "# 18. Bibliografía"
   ]
  },
  {
   "cell_type": "markdown",
   "metadata": {},
   "source": [
    "* 1. Wei-Bing Lin, J., 2012. A Hands-On Introduction to Using Python in the Atmospheric and Oceanic Sciences. 1st ed. [ebook] lulu, pp.1 to 209. Available at: <https://www.lulu.com/commerce/index.php?fBuyContent=13110573&page=1&pageSize=4> [Accessed 19 May 2021].\n",
    "* 2. Langtangen, H., 2009. A Primer on Scientific Programming with Python. Leipzig, Germany: Springer, p.all.\n",
    "* 3. Heath, M., 2009. Scientific computing. 1st ed. Boston, Mass: McGraw Hill, p.all.\n",
    "* 4. Johansson, R., n.d. Numerical python. 2nd ed. New York: Springer, p.all.\n",
    "* 5. Hunt, J., 2019. A Begginers Guide to Python 3 Programming. 1st ed. Cham, Suiza: Springer, p.all."
   ]
  }
 ],
 "metadata": {
  "kernelspec": {
   "display_name": "Python 3",
   "language": "python",
   "name": "python3"
  },
  "language_info": {
   "codemirror_mode": {
    "name": "ipython",
    "version": 3
   },
   "file_extension": ".py",
   "mimetype": "text/x-python",
   "name": "python",
   "nbconvert_exporter": "python",
   "pygments_lexer": "ipython3",
   "version": "3.6.9"
  }
 },
 "nbformat": 4,
 "nbformat_minor": 4
}
