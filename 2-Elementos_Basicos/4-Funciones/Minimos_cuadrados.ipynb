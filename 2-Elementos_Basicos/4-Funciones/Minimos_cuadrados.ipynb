{
 "cells": [
  {
   "cell_type": "markdown",
   "id": "5f51a0b8-e58b-4056-9826-c5a9e8d8d84a",
   "metadata": {},
   "source": [
    "\n",
    "<center>\n",
    "<img src = \"../../Images/Minimos.png\"  width=\"500\" height=\"300\"/>\n",
    "    </center>"
   ]
  },
  {
   "cell_type": "code",
   "execution_count": 11,
   "id": "92d04521-c929-4ce3-b616-facaf6cb6e62",
   "metadata": {},
   "outputs": [],
   "source": [
    "x_list = []\n",
    "y_list = []\n",
    "\n",
    "for i in range(0,50):\n",
    "    x_list.append(i)\n",
    "    y_list.append(30*i+8)\n",
    "    "
   ]
  },
  {
   "cell_type": "code",
   "execution_count": 15,
   "id": "a477f74d-d0db-4bb6-a633-5e13580cffb0",
   "metadata": {},
   "outputs": [],
   "source": [
    "i = 0\n",
    "S_x = 0\n",
    "S_xx = 0\n",
    "S_y = 0\n",
    "S_xy = 0\n",
    "\n",
    "while i < len(x_list):\n",
    "    S_x += x_list[i]\n",
    "    S_xx += x_list[i] * x_list[i]\n",
    "    S_y += y_list[i]\n",
    "    S_xy += x_list[i] * y_list[i]\n",
    "    i += 1\n",
    "n = i"
   ]
  },
  {
   "cell_type": "code",
   "execution_count": 16,
   "id": "977efaad-576c-4bef-aa87-d8196edca7fb",
   "metadata": {},
   "outputs": [],
   "source": [
    "m = (n * S_xy - S_x * S_y)/(n * S_xx - S_x*S_x)\n",
    "b = (S_xx * S_y - S_xy * S_x)/(n * S_xx - S_x*S_x)"
   ]
  },
  {
   "cell_type": "code",
   "execution_count": 19,
   "id": "9bf93887-821f-45ca-8571-4f7a54373e0f",
   "metadata": {},
   "outputs": [],
   "source": [
    "def minimos_cuadrados(x_list, y_list):\n",
    "    i = 0                                    # Contador\n",
    "    S_x , S_xx , S_y , S_xy = 0 , 0 , 0 , 0  # Sumas de las expresiones de mínimos cuadrados, inicializadas en cero\n",
    "\n",
    "    while i < len(x_list):                    # Para cada uno de los datos, opera las sumas\n",
    "        S_x += x_list[i]\n",
    "        S_xx += x_list[i] * x_list[i]\n",
    "        S_y += y_list[i]\n",
    "        S_xy += x_list[i] * y_list[i]\n",
    "        i += 1\n",
    "    m = (n * S_xy - S_x * S_y)\n",
    "    m = m/(n * S_xx - S_x*S_x)\n",
    "    b = (S_xx * S_y - S_xy * S_x)/(n * S_xx - S_x*S_x)\n",
    "    return [m, b]   \n",
    "    "
   ]
  },
  {
   "cell_type": "code",
   "execution_count": 26,
   "id": "2f8e6fe5-bcff-4ab1-8e54-e4ad42514ab8",
   "metadata": {},
   "outputs": [
    {
     "data": {
      "text/plain": [
       "[52.0, 8.0]"
      ]
     },
     "execution_count": 26,
     "metadata": {},
     "output_type": "execute_result"
    }
   ],
   "source": [
    "minimos_cuadrados(x_list, y_list)"
   ]
  },
  {
   "cell_type": "code",
   "execution_count": 25,
   "id": "89604d1d-15d1-41ba-9267-02b0e962bcbd",
   "metadata": {},
   "outputs": [],
   "source": [
    "x_list = []\n",
    "y_list = []\n",
    "\n",
    "for i in range(0,50):\n",
    "    x_list.append(i)\n",
    "    y_list.append(52*i+8)\n",
    "    "
   ]
  },
  {
   "cell_type": "code",
   "execution_count": null,
   "id": "f7e52484-f016-48a4-a839-2fdc7bd6c03d",
   "metadata": {},
   "outputs": [],
   "source": []
  }
 ],
 "metadata": {
  "kernelspec": {
   "display_name": "Python 3",
   "language": "python",
   "name": "python3"
  },
  "language_info": {
   "codemirror_mode": {
    "name": "ipython",
    "version": 3
   },
   "file_extension": ".py",
   "mimetype": "text/x-python",
   "name": "python",
   "nbconvert_exporter": "python",
   "pygments_lexer": "ipython3",
   "version": "3.6.9"
  }
 },
 "nbformat": 4,
 "nbformat_minor": 5
}
